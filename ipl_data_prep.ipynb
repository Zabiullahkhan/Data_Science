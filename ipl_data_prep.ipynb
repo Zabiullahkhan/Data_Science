{
  "cells": [
    {
      "cell_type": "markdown",
      "metadata": {
        "id": "view-in-github",
        "colab_type": "text"
      },
      "source": [
        "<a href=\"https://colab.research.google.com/github/Zabiullahkhan/Data_Science/blob/main/ipl_data_prep.ipynb\" target=\"_parent\"><img src=\"https://colab.research.google.com/assets/colab-badge.svg\" alt=\"Open In Colab\"/></a>"
      ]
    },
    {
      "cell_type": "code",
      "execution_count": null,
      "id": "6c3c703f",
      "metadata": {
        "id": "6c3c703f"
      },
      "outputs": [],
      "source": [
        "#!pip install pyyaml"
      ]
    },
    {
      "cell_type": "code",
      "execution_count": null,
      "id": "84758bc4",
      "metadata": {
        "id": "84758bc4"
      },
      "outputs": [],
      "source": [
        "import yaml\n",
        "import os\n",
        "for path, dirs, files in os.walk(r\"C:\\Users\\Dell\\Documents\\ipl_json\"):\n",
        "#     print(path) \n",
        "    for f in files:\n",
        "        path=os.path.join(path,f)\n",
        "        with open(path,encoding= 'unicode_escape') as file:\n",
        "            # The FullLoader parameter handles the conversion from YAML\n",
        "            # scalar values to Python the dictionary format\n",
        "            ipl_dict=yaml.load(file, Loader=yaml.FullLoader)\n",
        "            print(ipl_dict)"
      ]
    },
    {
      "cell_type": "code",
      "execution_count": null,
      "id": "19f03c03",
      "metadata": {
        "id": "19f03c03"
      },
      "outputs": [],
      "source": [
        "for i in ipl_dict.values():\n",
        "    print(i)"
      ]
    },
    {
      "cell_type": "code",
      "execution_count": null,
      "id": "eb8d3b06",
      "metadata": {
        "id": "eb8d3b06"
      },
      "outputs": [],
      "source": [
        "pd.io.json.json_normalize(yaml.load(ipl_dict), 'reviews', 'doc')"
      ]
    },
    {
      "cell_type": "code",
      "execution_count": null,
      "id": "62a54c64",
      "metadata": {
        "id": "62a54c64"
      },
      "outputs": [],
      "source": [
        "# import pandas as pd\n",
        "# from yaml import safe_load\n",
        "\n",
        "# #with open('legislators-historical.yaml', 'r') as f:\n",
        "# df = pd.json_normalize(safe_load(f))\n",
        "\n",
        "# print(df.head())\n"
      ]
    },
    {
      "cell_type": "code",
      "execution_count": null,
      "id": "494a8835",
      "metadata": {
        "scrolled": true,
        "id": "494a8835"
      },
      "outputs": [],
      "source": [
        "import pandas as pd\n",
        "from yaml import safe_load\n",
        "import os\n",
        "file_list=[]\n",
        "\n",
        "for path, dirs, files in os.walk(r\"C:\\Users\\Dell\\Documents\\ipl\"):\n",
        "#     print(path) \n",
        "    for f in files:\n",
        "        filename = os.path.join(path,f)\n",
        "        file_list.append(filename)\n",
        "        #print(file_list)\n",
        "        for i in file_list:\n",
        "            with open(i,'r') as file:\n",
        "                #ipl_dict=yaml.load(file, Loader=yaml.FullLoader)\n",
        "                df = pd.json_normalize(safe_load(file))\n"
      ]
    },
    {
      "cell_type": "code",
      "execution_count": null,
      "id": "9f5ede78",
      "metadata": {
        "id": "9f5ede78"
      },
      "outputs": [],
      "source": [
        "print(df.head())  "
      ]
    },
    {
      "cell_type": "code",
      "execution_count": null,
      "id": "6dcc6e9a",
      "metadata": {
        "id": "6dcc6e9a"
      },
      "outputs": [],
      "source": [
        "for i in file_list:\n",
        "    print(i)"
      ]
    },
    {
      "cell_type": "code",
      "execution_count": null,
      "id": "651e48f5",
      "metadata": {
        "id": "651e48f5"
      },
      "outputs": [],
      "source": []
    }
  ],
  "metadata": {
    "kernelspec": {
      "display_name": "Python 3 (ipykernel)",
      "language": "python",
      "name": "python3"
    },
    "language_info": {
      "codemirror_mode": {
        "name": "ipython",
        "version": 3
      },
      "file_extension": ".py",
      "mimetype": "text/x-python",
      "name": "python",
      "nbconvert_exporter": "python",
      "pygments_lexer": "ipython3",
      "version": "3.10.5"
    },
    "colab": {
      "provenance": [],
      "include_colab_link": true
    }
  },
  "nbformat": 4,
  "nbformat_minor": 5
}