{
  "nbformat": 4,
  "nbformat_minor": 0,
  "metadata": {
    "colab": {
      "name": "Pandas_Cheat_Sheet.ipynb",
      "provenance": [],
      "collapsed_sections": [],
      "authorship_tag": "ABX9TyNDi8BHet0yS0NFTxJ/zwFY",
      "include_colab_link": true
    },
    "kernelspec": {
      "name": "python3",
      "display_name": "Python 3"
    },
    "language_info": {
      "name": "python"
    }
  },
  "cells": [
    {
      "cell_type": "markdown",
      "metadata": {
        "id": "view-in-github",
        "colab_type": "text"
      },
      "source": [
        "<a href=\"https://colab.research.google.com/github/Zabiullahkhan/Data_Science/blob/main/Pandas_Cheat_Sheet.ipynb\" target=\"_parent\"><img src=\"https://colab.research.google.com/assets/colab-badge.svg\" alt=\"Open In Colab\"/></a>"
      ]
    },
    {
      "cell_type": "markdown",
      "source": [
        "# Pandas Cheat Sheet\n",
        "### Getting Started\n",
        "Import Pandas"
      ],
      "metadata": {
        "id": "knPTG80US4j0"
      }
    },
    {
      "cell_type": "markdown",
      "source": [
        "#### Create a series:\n"
      ],
      "metadata": {
        "id": "VS7cru2rTSGF"
      }
    },
    {
      "cell_type": "code",
      "source": [
        "import pandas as pd\n",
        "s = pd.Series([1, 2, 3],\n",
        "\n",
        "index=['A', 'B', 'C'],\n",
        "name='col1')"
      ],
      "metadata": {
        "id": "Noi3WragUts1"
      },
      "execution_count": 2,
      "outputs": []
    },
    {
      "cell_type": "markdown",
      "source": [
        "#### Create a dataframe:"
      ],
      "metadata": {
        "id": "3ZYUeXOuUu49"
      }
    },
    {
      "cell_type": "code",
      "source": [
        "data = [[1, 4], [2, 5], [3, 6]]\n",
        "index = ['A', 'B', 'C']\n",
        "df = pd.DataFrame(data, index=index,\n",
        "columns=['col1', 'col2'])"
      ],
      "metadata": {
        "id": "xrKLXI_VVBRQ"
      },
      "execution_count": 3,
      "outputs": []
    },
    {
      "cell_type": "markdown",
      "source": [
        "#### Load a dataframe:"
      ],
      "metadata": {
        "id": "_Mxu9CfjVGyi"
      }
    },
    {
      "cell_type": "code",
      "source": [
        "df = pd.read_csv('filename.csv', sep=',',\n",
        "names=['col1', 'col2'],\n",
        "index_col=0,\n",
        "encoding='utf-8',\n",
        "nrows=3)"
      ],
      "metadata": {
        "id": "x4C1a-X6VKzB"
      },
      "execution_count": null,
      "outputs": []
    },
    {
      "cell_type": "markdown",
      "source": [
        "# Selecting rows and columns"
      ],
      "metadata": {
        "id": "zFzFkSjuVRXq"
      }
    },
    {
      "cell_type": "markdown",
      "source": [
        "###Select single column:"
      ],
      "metadata": {
        "id": "PGz2upcWWin3"
      }
    },
    {
      "cell_type": "code",
      "source": [
        "df['col1']"
      ],
      "metadata": {
        "id": "q625ENaHWmn1"
      },
      "execution_count": null,
      "outputs": []
    },
    {
      "cell_type": "markdown",
      "source": [
        "Select multiple columns:"
      ],
      "metadata": {
        "id": "a24vu3usWqYe"
      }
    },
    {
      "cell_type": "code",
      "source": [
        "df[['col1', 'col2']]"
      ],
      "metadata": {
        "id": "t01dwyV6WvIr"
      },
      "execution_count": null,
      "outputs": []
    },
    {
      "cell_type": "markdown",
      "source": [
        "Show first n rows:"
      ],
      "metadata": {
        "id": "o24EsflGWyDe"
      }
    },
    {
      "cell_type": "code",
      "source": [
        "df.head(2)"
      ],
      "metadata": {
        "id": "rRkaty4UW3Wm"
      },
      "execution_count": null,
      "outputs": []
    },
    {
      "cell_type": "markdown",
      "source": [
        "Show last n rows:"
      ],
      "metadata": {
        "id": "yq0Ku5v1W6s5"
      }
    },
    {
      "cell_type": "code",
      "source": [
        "df.tail(2)"
      ],
      "metadata": {
        "id": "J11r4YARW61H"
      },
      "execution_count": null,
      "outputs": []
    },
    {
      "cell_type": "markdown",
      "source": [
        "Select rows by index values:"
      ],
      "metadata": {
        "id": "kSNhWR1mW67k"
      }
    },
    {
      "cell_type": "code",
      "source": [
        "df.loc['A'] df.loc[['A', 'B']]"
      ],
      "metadata": {
        "id": "bLELw9AIW6_X"
      },
      "execution_count": null,
      "outputs": []
    },
    {
      "cell_type": "markdown",
      "source": [
        "Select rows by position:"
      ],
      "metadata": {
        "id": "yjNx0R9OW7Az"
      }
    },
    {
      "cell_type": "code",
      "source": [
        "df.loc[1] df.loc[1:]"
      ],
      "metadata": {
        "id": "YlE7xtuXW7E1"
      },
      "execution_count": null,
      "outputs": []
    },
    {
      "cell_type": "markdown",
      "source": [
        "# Data wrangling"
      ],
      "metadata": {
        "id": "QtifIpmOW7Gy"
      }
    },
    {
      "cell_type": "markdown",
      "source": [
        "Filter by value:"
      ],
      "metadata": {
        "id": "45gL08uuW7J7"
      }
    },
    {
      "cell_type": "code",
      "source": [
        "df[df['col1'] > 1]"
      ],
      "metadata": {
        "id": "Kzfvoj6MW7LK"
      },
      "execution_count": null,
      "outputs": []
    },
    {
      "cell_type": "markdown",
      "source": [
        "Sort by columns:"
      ],
      "metadata": {
        "id": "GGEWvg3jXR2i"
      }
    },
    {
      "cell_type": "code",
      "source": [
        "df.sort_values(['col2', 'col2'],\n",
        "ascending=[False, True])"
      ],
      "metadata": {
        "id": "7F85AU2OXR32"
      },
      "execution_count": null,
      "outputs": []
    },
    {
      "cell_type": "markdown",
      "source": [
        "Identify duplicate rows:"
      ],
      "metadata": {
        "id": "u1Ni6GsIXR8E"
      }
    },
    {
      "cell_type": "code",
      "source": [
        "df.duplicated()"
      ],
      "metadata": {
        "id": "PFBOSrV4XR9d"
      },
      "execution_count": null,
      "outputs": []
    },
    {
      "cell_type": "markdown",
      "source": [
        "Identify unique rows:"
      ],
      "metadata": {
        "id": "eCIWRcYKXSBw"
      }
    },
    {
      "cell_type": "code",
      "source": [
        "df['col1'].unique()"
      ],
      "metadata": {
        "id": "H02NPXjgXSDF"
      },
      "execution_count": null,
      "outputs": []
    },
    {
      "cell_type": "markdown",
      "source": [
        "Swap rows and columns:"
      ],
      "metadata": {
        "id": "ovG5JyhHXSHU"
      }
    },
    {
      "cell_type": "code",
      "source": [
        "df = df.transpose()\n",
        "df = df.T"
      ],
      "metadata": {
        "id": "rShbGovzXSIl"
      },
      "execution_count": null,
      "outputs": []
    },
    {
      "cell_type": "markdown",
      "source": [
        "Drop a column:"
      ],
      "metadata": {
        "id": "mVzL4JzEXSMu"
      }
    },
    {
      "cell_type": "code",
      "source": [
        "df = df.drop('col1', axis=1)"
      ],
      "metadata": {
        "id": "QF8CsMhnW7PV"
      },
      "execution_count": null,
      "outputs": []
    },
    {
      "cell_type": "markdown",
      "source": [
        "Clone a data frame:"
      ],
      "metadata": {
        "id": "dIDAye6rX0-d"
      }
    },
    {
      "cell_type": "code",
      "source": [
        "clone = df.copy()"
      ],
      "metadata": {
        "id": "i2LAOpnfX1AD"
      },
      "execution_count": null,
      "outputs": []
    },
    {
      "cell_type": "markdown",
      "source": [
        "Connect multiple data frames vertically:"
      ],
      "metadata": {
        "id": "LT5RQYJyX1FK"
      }
    },
    {
      "cell_type": "code",
      "source": [
        "df2 = df + 5 #new dataframe\n",
        "pd.concat([df,df2])"
      ],
      "metadata": {
        "id": "K1aD7kZ3X1GZ"
      },
      "execution_count": null,
      "outputs": []
    },
    {
      "cell_type": "markdown",
      "source": [
        "Merge multiple data frames horizontally:"
      ],
      "metadata": {
        "id": "Fc3q9-N5X1KL"
      }
    },
    {
      "cell_type": "code",
      "source": [
        "df3 = pd.DataFrame([[1, 7],[8,9]],\n",
        "index=['B', 'D'],\n",
        "columns=['col1', 'col3'])\n",
        "#df3: new dataframe"
      ],
      "metadata": {
        "id": "vftuHq1bX1Lc"
      },
      "execution_count": null,
      "outputs": []
    },
    {
      "cell_type": "markdown",
      "source": [
        "Only merge complete rows (INNER JOIN):"
      ],
      "metadata": {
        "id": "4uQUv7mGX1P-"
      }
    },
    {
      "cell_type": "code",
      "source": [
        "df.merge(df3)"
      ],
      "metadata": {
        "id": "doaGOm1_X1RX"
      },
      "execution_count": null,
      "outputs": []
    },
    {
      "cell_type": "markdown",
      "source": [
        "Left column stays complete (LEFT OUTER JOIN):"
      ],
      "metadata": {
        "id": "UJZnSviqX1Vh"
      }
    },
    {
      "cell_type": "code",
      "source": [
        "df.merge(df3, how='left')"
      ],
      "metadata": {
        "id": "cIVnaYFtX1Xh"
      },
      "execution_count": null,
      "outputs": []
    },
    {
      "cell_type": "markdown",
      "source": [
        "Right column stays complete (RIGHT OUTER JOIN):"
      ],
      "metadata": {
        "id": "xSB9FZ2fX1bK"
      }
    },
    {
      "cell_type": "code",
      "source": [
        "df.merge(df3, how='right')"
      ],
      "metadata": {
        "id": "FxYK_YsaX1hr"
      },
      "execution_count": null,
      "outputs": []
    },
    {
      "cell_type": "markdown",
      "source": [
        "Merge rows by index:"
      ],
      "metadata": {
        "id": "BToSEX_MX1i-"
      }
    },
    {
      "cell_type": "code",
      "source": [
        "df.merge(df3,left_index=True,\n",
        "right_index=True)"
      ],
      "metadata": {
        "id": "tSn20XMgX1na"
      },
      "execution_count": null,
      "outputs": []
    },
    {
      "cell_type": "markdown",
      "source": [
        "Fill NaN values:"
      ],
      "metadata": {
        "id": "opOVQ3yfX1os"
      }
    },
    {
      "cell_type": "code",
      "source": [
        "df.fillna(0)"
      ],
      "metadata": {
        "id": "6wLEN5RsX1s4"
      },
      "execution_count": null,
      "outputs": []
    },
    {
      "cell_type": "markdown",
      "source": [
        "Apply your own function:"
      ],
      "metadata": {
        "id": "02yVv5QRX1uN"
      }
    },
    {
      "cell_type": "code",
      "source": [
        "def func(x):\n",
        "  return 2**x\n",
        "df.apply(func)"
      ],
      "metadata": {
        "id": "0wUG4kw1X1yj"
      },
      "execution_count": null,
      "outputs": []
    },
    {
      "cell_type": "markdown",
      "source": [
        "# Arithmetics and statistics"
      ],
      "metadata": {
        "id": "myBy2tDbX1z5"
      }
    },
    {
      "cell_type": "markdown",
      "source": [
        "Add to all values:"
      ],
      "metadata": {
        "id": "npItcn9SX13z"
      }
    },
    {
      "cell_type": "code",
      "source": [
        "df + 10"
      ],
      "metadata": {
        "id": "o3gbi4tqX15I"
      },
      "execution_count": null,
      "outputs": []
    },
    {
      "cell_type": "markdown",
      "source": [
        "Sum over columns:"
      ],
      "metadata": {
        "id": "yDrlAByXX19V"
      }
    },
    {
      "cell_type": "code",
      "source": [
        "df.sum()"
      ],
      "metadata": {
        "id": "aDxEVRB7X1-p"
      },
      "execution_count": null,
      "outputs": []
    },
    {
      "cell_type": "markdown",
      "source": [
        "Cumulative sum over columns:"
      ],
      "metadata": {
        "id": "lSoA8w7JX2Cw"
      }
    },
    {
      "cell_type": "code",
      "source": [
        "df.cumsum()"
      ],
      "metadata": {
        "id": "tcPHpvcnX2EI"
      },
      "execution_count": null,
      "outputs": []
    },
    {
      "cell_type": "markdown",
      "source": [
        "Mean over columns:"
      ],
      "metadata": {
        "id": "hDyatlbEX2IP"
      }
    },
    {
      "cell_type": "code",
      "source": [
        "df.mean()"
      ],
      "metadata": {
        "id": "wObHtvnFX2Jl"
      },
      "execution_count": null,
      "outputs": []
    },
    {
      "cell_type": "markdown",
      "source": [
        "Standard deviation over columns:"
      ],
      "metadata": {
        "id": "lKoODdMLX2Nr"
      }
    },
    {
      "cell_type": "code",
      "source": [
        "df.std()"
      ],
      "metadata": {
        "id": "Hzq2L4blX2PK"
      },
      "execution_count": null,
      "outputs": []
    },
    {
      "cell_type": "markdown",
      "source": [
        "Count unique values:"
      ],
      "metadata": {
        "id": "c34A19EnX2TL"
      }
    },
    {
      "cell_type": "code",
      "source": [
        "df['col1'].value_counts()"
      ],
      "metadata": {
        "id": "dP2Veld5X2Uh"
      },
      "execution_count": null,
      "outputs": []
    },
    {
      "cell_type": "markdown",
      "source": [
        "Summarize descriptive statistics:"
      ],
      "metadata": {
        "id": "0_AuFNJeX2Y4"
      }
    },
    {
      "cell_type": "code",
      "source": [
        "df.describe()"
      ],
      "metadata": {
        "id": "wIssvFfFX2bP"
      },
      "execution_count": null,
      "outputs": []
    },
    {
      "cell_type": "markdown",
      "source": [
        "# Hierarchical indexing"
      ],
      "metadata": {
        "id": "Dw0h3msQX2eh"
      }
    },
    {
      "cell_type": "markdown",
      "source": [
        "Create hierarchical index:"
      ],
      "metadata": {
        "id": "Ih7uFOMkX2f3"
      }
    },
    {
      "cell_type": "code",
      "source": [
        "df.stack()"
      ],
      "metadata": {
        "id": "8JOobaOIX2kN"
      },
      "execution_count": null,
      "outputs": []
    },
    {
      "cell_type": "markdown",
      "source": [
        "Dissolve hierarchical index:"
      ],
      "metadata": {
        "id": "RJaKMo1ZX2lf"
      }
    },
    {
      "cell_type": "code",
      "source": [
        "df.unstack()"
      ],
      "metadata": {
        "id": "EuS5Q6UaX2p3"
      },
      "execution_count": null,
      "outputs": []
    },
    {
      "cell_type": "markdown",
      "source": [
        "# Aggregation"
      ],
      "metadata": {
        "id": "wcmRdv7CX2rL"
      }
    },
    {
      "cell_type": "markdown",
      "source": [
        "Create group object:"
      ],
      "metadata": {
        "id": "7xUPfpvEX2vJ"
      }
    },
    {
      "cell_type": "code",
      "source": [
        "g = df.groupby('col1')"
      ],
      "metadata": {
        "id": "4tpEmkx1X2wk"
      },
      "execution_count": null,
      "outputs": []
    },
    {
      "cell_type": "markdown",
      "source": [
        "Iterate over groups:"
      ],
      "metadata": {
        "id": "HMasEIzfX20z"
      }
    },
    {
      "cell_type": "code",
      "source": [
        "for i, group in g:\n",
        "  print(i, group)"
      ],
      "metadata": {
        "id": "__VYJdxCX22G"
      },
      "execution_count": null,
      "outputs": []
    },
    {
      "cell_type": "markdown",
      "source": [
        "Aggregate groups:"
      ],
      "metadata": {
        "id": "Lg1oAQV-X26Z"
      }
    },
    {
      "cell_type": "code",
      "source": [
        "g.sum()\n",
        "g.prod()\n",
        "g.mean()\n",
        "g.std()\n",
        "g.describe()"
      ],
      "metadata": {
        "id": "CYW1itncX27s"
      },
      "execution_count": null,
      "outputs": []
    },
    {
      "cell_type": "markdown",
      "source": [
        "Select columns from groups:"
      ],
      "metadata": {
        "id": "Buem00yuX2_l"
      }
    },
    {
      "cell_type": "code",
      "source": [
        "g['col2'].sum()\n",
        "g[['col2', 'col3']].sum()"
      ],
      "metadata": {
        "id": "wQNkdqR7X3A4"
      },
      "execution_count": null,
      "outputs": []
    },
    {
      "cell_type": "markdown",
      "source": [
        "Transform values:"
      ],
      "metadata": {
        "id": "dZaN8AeJX3FL"
      }
    },
    {
      "cell_type": "code",
      "source": [
        "import math\n",
        "g.transform(math.log)"
      ],
      "metadata": {
        "id": "y04Utq8xX3Gi"
      },
      "execution_count": null,
      "outputs": []
    },
    {
      "cell_type": "markdown",
      "source": [
        "Apply a list function on each group:"
      ],
      "metadata": {
        "id": "32MFPMS-X3Kc"
      }
    },
    {
      "cell_type": "code",
      "source": [
        "def strsum(group):\n",
        "  return ''.join([str(x) for x in group.value])\n",
        "  g['col2'].apply(strsum)"
      ],
      "metadata": {
        "id": "3fkYjVc4X3L0"
      },
      "execution_count": null,
      "outputs": []
    },
    {
      "cell_type": "markdown",
      "source": [
        "# Data export"
      ],
      "metadata": {
        "id": "fUZ_VTzgX3QB"
      }
    },
    {
      "cell_type": "markdown",
      "source": [
        "Data as NumPy array:"
      ],
      "metadata": {
        "id": "hEVhJtazX3Ri"
      }
    },
    {
      "cell_type": "code",
      "source": [
        "df.values"
      ],
      "metadata": {
        "id": "VG96XzCTX3Vf"
      },
      "execution_count": null,
      "outputs": []
    },
    {
      "cell_type": "markdown",
      "source": [
        "Save data as CSV file:"
      ],
      "metadata": {
        "id": "eO415ZmdX3YO"
      }
    },
    {
      "cell_type": "code",
      "source": [
        "df.to_csv('output.csv', sep=\",\")"
      ],
      "metadata": {
        "id": "hrdF___bX3a5"
      },
      "execution_count": null,
      "outputs": []
    },
    {
      "cell_type": "markdown",
      "source": [
        "Format a dataframe as tabular string:"
      ],
      "metadata": {
        "id": "hoof7OldX3ce"
      }
    },
    {
      "cell_type": "code",
      "source": [
        "df.to_string()"
      ],
      "metadata": {
        "id": "ZadhydygX3gL"
      },
      "execution_count": null,
      "outputs": []
    },
    {
      "cell_type": "markdown",
      "source": [
        "Convert a dataframe to a dictionary:"
      ],
      "metadata": {
        "id": "C3QgqitcgynM"
      }
    },
    {
      "cell_type": "code",
      "source": [
        "df.to_dict()"
      ],
      "metadata": {
        "id": "tAY6Y1kwgyo7"
      },
      "execution_count": null,
      "outputs": []
    },
    {
      "cell_type": "markdown",
      "source": [
        "Save a dataframe as an Excel table:"
      ],
      "metadata": {
        "id": "0zsKIvtlgytS"
      }
    },
    {
      "cell_type": "code",
      "source": [
        "df.to_excel('output.xlsx')"
      ],
      "metadata": {
        "id": "Xm8NODIdgywU"
      },
      "execution_count": null,
      "outputs": []
    },
    {
      "cell_type": "markdown",
      "source": [
        "# Visualization"
      ],
      "metadata": {
        "id": "BfIkbG7qgyy8"
      }
    },
    {
      "cell_type": "markdown",
      "source": [
        "Import matplotlib:"
      ],
      "metadata": {
        "id": "4STwweZ_gy16"
      }
    },
    {
      "cell_type": "code",
      "source": [
        "import matplotlib.pyplot as plt"
      ],
      "metadata": {
        "id": "GUJ0-mFZgy44"
      },
      "execution_count": null,
      "outputs": []
    },
    {
      "cell_type": "markdown",
      "source": [
        "Start a new diagram:"
      ],
      "metadata": {
        "id": "0ux24VYygy6Q"
      }
    },
    {
      "cell_type": "code",
      "source": [
        "plt.figure()"
      ],
      "metadata": {
        "id": "2vUTfq0egy-Z"
      },
      "execution_count": null,
      "outputs": []
    },
    {
      "cell_type": "markdown",
      "source": [
        "Scatter plot:"
      ],
      "metadata": {
        "id": "MC2fpshegy_0"
      }
    },
    {
      "cell_type": "code",
      "source": [
        "df.plot.scatter('col1', 'col2',\n",
        "  style='ro')"
      ],
      "metadata": {
        "id": "DykAFt8rgzUN"
      },
      "execution_count": null,
      "outputs": []
    },
    {
      "cell_type": "markdown",
      "source": [
        "Bar plot:"
      ],
      "metadata": {
        "id": "x_aqf-_LgzVo"
      }
    },
    {
      "cell_type": "code",
      "source": [
        "df.plot.bar(x='col1', y='col2',\n",
        "width=0.7)"
      ],
      "metadata": {
        "id": "9yzW__5ZgzZ6"
      },
      "execution_count": null,
      "outputs": []
    },
    {
      "cell_type": "markdown",
      "source": [
        "Area plot:"
      ],
      "metadata": {
        "id": "1XndHkL1gzba"
      }
    },
    {
      "cell_type": "code",
      "source": [
        "df.plot.area(stacked=True,\n",
        "alpha=1.0)"
      ],
      "metadata": {
        "id": "htsIMT-Lgzfl"
      },
      "execution_count": null,
      "outputs": []
    },
    {
      "cell_type": "markdown",
      "source": [
        "Box-and-whisker plot:"
      ],
      "metadata": {
        "id": "RaVH5arpgzg-"
      }
    },
    {
      "cell_type": "code",
      "source": [
        "df.plot.box()"
      ],
      "metadata": {
        "id": "y0t4Q1CIgzk9"
      },
      "execution_count": null,
      "outputs": []
    },
    {
      "cell_type": "markdown",
      "source": [
        "Histogram over one column:"
      ],
      "metadata": {
        "id": "zTgSEH6Xgzmf"
      }
    },
    {
      "cell_type": "code",
      "source": [
        "df['col1'].plot.hist(bins=3)"
      ],
      "metadata": {
        "id": "dgpLVx05gzqy"
      },
      "execution_count": null,
      "outputs": []
    },
    {
      "cell_type": "markdown",
      "source": [
        "Histogram over all columns:"
      ],
      "metadata": {
        "id": "ZGEResjggzsI"
      }
    },
    {
      "cell_type": "code",
      "source": [
        "df.plot.hist(bins=3, alpha=0.5)"
      ],
      "metadata": {
        "id": "_hj7BPi_i3Ng"
      },
      "execution_count": null,
      "outputs": []
    },
    {
      "cell_type": "markdown",
      "source": [
        "Set tick marks:"
      ],
      "metadata": {
        "id": "_WDlHvywi_Z9"
      }
    },
    {
      "cell_type": "code",
      "source": [
        "labels = ['A', 'B', 'C', 'D']\n",
        "positions = [1, 2, 3, 4]\n",
        "plt.xticks(positions, labels)\n",
        "plt.yticks(positions, labels)"
      ],
      "metadata": {
        "id": "Ke3FH0c6i_b5"
      },
      "execution_count": null,
      "outputs": []
    },
    {
      "cell_type": "markdown",
      "source": [
        "Select area to plot:"
      ],
      "metadata": {
        "id": "UHBRB9w-i_f0"
      }
    },
    {
      "cell_type": "code",
      "source": [
        "plt.axis([0, 2.5, 0, 10]) # [from x, to x, from y, to y]"
      ],
      "metadata": {
        "id": "Q0O0q_lDi_hn"
      },
      "execution_count": null,
      "outputs": []
    },
    {
      "cell_type": "markdown",
      "source": [
        "Label diagram and axes:"
      ],
      "metadata": {
        "id": "6r5J7k2ci_pd"
      }
    },
    {
      "cell_type": "code",
      "source": [
        "plt.title('Correlation')\n",
        "plt.xlabel('Nunstück')\n",
        "plt.ylabel('Slotermeyer')"
      ],
      "metadata": {
        "id": "HBjvUGcHjQQg"
      },
      "execution_count": null,
      "outputs": []
    },
    {
      "cell_type": "markdown",
      "source": [
        "Save most recent diagram:"
      ],
      "metadata": {
        "id": "ZSWrTPW0jQSS"
      }
    },
    {
      "cell_type": "code",
      "source": [
        "plt.savefig('plot.png')\n",
        "plt.savefig('plot.png',dpi=300)\n",
        "plt.savefig('plot.svg')"
      ],
      "metadata": {
        "id": "J5UgIQD4jQWe"
      },
      "execution_count": null,
      "outputs": []
    },
    {
      "cell_type": "markdown",
      "source": [
        "# Thanks\n",
        "      by\n",
        "         Zabiullah Khan"
      ],
      "metadata": {
        "id": "Vm38eA-Sjfgi"
      }
    }
  ]
}