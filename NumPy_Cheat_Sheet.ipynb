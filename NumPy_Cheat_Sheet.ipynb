{
  "nbformat": 4,
  "nbformat_minor": 0,
  "metadata": {
    "colab": {
      "name": "NumPy Cheat Sheet.ipynb",
      "provenance": [],
      "collapsed_sections": [],
      "authorship_tag": "ABX9TyM5TsAdKgPrUYWFm8+ihokF",
      "include_colab_link": true
    },
    "kernelspec": {
      "name": "python3",
      "display_name": "Python 3"
    },
    "language_info": {
      "name": "python"
    }
  },
  "cells": [
    {
      "cell_type": "markdown",
      "metadata": {
        "id": "view-in-github",
        "colab_type": "text"
      },
      "source": [
        "<a href=\"https://colab.research.google.com/github/Zabiullahkhan/Data_Science/blob/main/NumPy_Cheat_Sheet.ipynb\" target=\"_parent\"><img src=\"https://colab.research.google.com/assets/colab-badge.svg\" alt=\"Open In Colab\"/></a>"
      ]
    },
    {
      "cell_type": "markdown",
      "source": [
        "# NumPy Cheat Sheet\n",
        "NumPy provides tools for working with arrays. All of the\n",
        "following code examples refer to the arrays below."
      ],
      "metadata": {
        "id": "IjOvgbkTkKtM"
      }
    },
    {
      "cell_type": "markdown",
      "source": [
        " ImportNumPy "
      ],
      "metadata": {
        "id": "C1isv2e8kXvL"
      }
    },
    {
      "cell_type": "code",
      "source": [
        "import numpy as np"
      ],
      "metadata": {
        "id": "N8_-XTe9kX9W"
      },
      "execution_count": 1,
      "outputs": []
    },
    {
      "cell_type": "markdown",
      "source": [
        "Create Arrays:"
      ],
      "metadata": {
        "id": "_X55QPdtkX-q"
      }
    },
    {
      "cell_type": "code",
      "source": [
        "a = np.array([1,2,3])\n",
        "b = np.array([(1.5,2,3), (4,5,6)], dtype = float)\n",
        "c = np.array([[(1.5,2,3),(4,5,6)],[]])"
      ],
      "metadata": {
        "id": "g51lQXj9kYDF"
      },
      "execution_count": null,
      "outputs": []
    },
    {
      "cell_type": "markdown",
      "source": [
        "Initial placeholders:"
      ],
      "metadata": {
        "id": "NxTts0ZikYES"
      }
    },
    {
      "cell_type": "code",
      "source": [
        "np.zeros((3,4)) #Create an array of zeros\n",
        "np.ones((2,3,4),dtype=np.int16)\n",
        "d = np.arange(10,25,5)\n",
        "np.linspace( 0,2, 9)\n",
        "e = np.full((2,2), 7)\n",
        "f = np.eye(2)\n",
        "np.random.random((2,2))\n",
        "np.empty((3,2))"
      ],
      "metadata": {
        "id": "AtSqZkkMkYIx"
      },
      "execution_count": null,
      "outputs": []
    },
    {
      "cell_type": "markdown",
      "source": [
        "Saving & Loading On Disk:"
      ],
      "metadata": {
        "id": "LuVcAjeglC1B"
      }
    },
    {
      "cell_type": "code",
      "source": [
        "np.save('my_array', a)\n",
        "np.savez('array.npz', a, b)\n",
        "np.load('my_array.npy')"
      ],
      "metadata": {
        "id": "Zf6Z4tt_lDAX"
      },
      "execution_count": null,
      "outputs": []
    },
    {
      "cell_type": "markdown",
      "source": [
        "Saving & Loading Text Files"
      ],
      "metadata": {
        "id": "Bh_UHqfJlDQB"
      }
    },
    {
      "cell_type": "code",
      "source": [
        "np.loadtxt('my_file.txt')\n",
        "np.genfromtxt('my_file.csv',\n",
        "delimiter=',')\n",
        "np.savetxt('myarray.txt', a,\n",
        "delimiter= ' ')"
      ],
      "metadata": {
        "id": "DkTYlrMrlDRk"
      },
      "execution_count": null,
      "outputs": []
    },
    {
      "cell_type": "markdown",
      "source": [
        "Inspecting Your Array"
      ],
      "metadata": {
        "id": "L3wdmGXJlDVi"
      }
    },
    {
      "cell_type": "code",
      "source": [
        "a.shape\n",
        "len(a)\n",
        "b.ndim\n",
        "e.size\n",
        "b.dtype #data type\n",
        "b.dtype.name\n",
        "b.astype(int) #change data type"
      ],
      "metadata": {
        "id": "kSmkM7atlDXF"
      },
      "execution_count": null,
      "outputs": []
    },
    {
      "cell_type": "markdown",
      "source": [
        "Data Types"
      ],
      "metadata": {
        "id": "dQuS9LfvlDay"
      }
    },
    {
      "cell_type": "code",
      "source": [
        "np.int64\n",
        "np.float32\n",
        "np.complex\n",
        "np.bool\n",
        "np.object\n",
        "np.string_\n",
        "np.unicode_"
      ],
      "metadata": {
        "id": "7S-IZ1WulDcj"
      },
      "execution_count": null,
      "outputs": []
    },
    {
      "cell_type": "markdown",
      "source": [
        "Array Mathematics"
      ],
      "metadata": {
        "id": "Tc_elkbmlhOy"
      }
    },
    {
      "cell_type": "markdown",
      "source": [
        "Arithmetic Operations"
      ],
      "metadata": {
        "id": "8WsUqDHllhZe"
      }
    },
    {
      "cell_type": "code",
      "source": [
        "g = a-b\n",
        "array([[-0.5, 0. , 0. ],\n",
        "[-3. , 3. , 3. ]])\n",
        "np.subtract(a,b)\n",
        "b+a\n",
        "array([[2.5, 4. , 6. ],\n",
        "[ 5. , 7. , 9. ]])\n",
        "np.add(b,a)\n",
        "a/b\n",
        "array([[ 0.66666667, 1. , 1. ],\n",
        "[ 0.2 5 , 0.4 , 0 . 5 ]])\n",
        "np.divide(a,b)\n",
        "a*b\n",
        "array([[ 1 . 5, 4. , 9. ],\n",
        "[ 4. , 10. , 18. ]])\n",
        "np.multiply(a,b)\n",
        "np.exp(b)\n",
        "np.sqrt(b)\n",
        "np.sin(a)\n",
        "np.log(a)\n",
        "e.dot(f)"
      ],
      "metadata": {
        "id": "hHdBibrulhgH"
      },
      "execution_count": null,
      "outputs": []
    },
    {
      "cell_type": "markdown",
      "source": [
        "Aggregate functions:"
      ],
      "metadata": {
        "id": "cjVBui97lhhv"
      }
    },
    {
      "cell_type": "code",
      "source": [
        "a.sum()\n",
        "a.min()\n",
        "b.max(axis= 0)\n",
        "b.cumsum(axis= 1) #Cumulative sum\n",
        "a.mean()\n",
        "b.median()\n",
        "a.corrcoef() #Correlation coefficient\n",
        "np.std(b) #Standard deviation"
      ],
      "metadata": {
        "id": "GSrsTirnlhmQ"
      },
      "execution_count": null,
      "outputs": []
    },
    {
      "cell_type": "markdown",
      "source": [
        "Copying arrays:"
      ],
      "metadata": {
        "id": "NPq0n8Gmlhnx"
      }
    },
    {
      "cell_type": "code",
      "source": [
        "h = a.view() #Create a view\n",
        "np.copy(a)\n",
        "h = a.copy() #Create a deep copy"
      ],
      "metadata": {
        "id": "W3_7JCHMlhrW"
      },
      "execution_count": null,
      "outputs": []
    },
    {
      "cell_type": "markdown",
      "source": [
        "Sorting arrays:"
      ],
      "metadata": {
        "id": "WliMeQBplhs5"
      }
    },
    {
      "cell_type": "code",
      "source": [
        "a.sort() #Sort an array\n",
        "c.sort(axis=0)"
      ],
      "metadata": {
        "id": "GcoABpfwmqax"
      },
      "execution_count": null,
      "outputs": []
    },
    {
      "cell_type": "markdown",
      "source": [
        "# Array Manipulation"
      ],
      "metadata": {
        "id": "OTqyG2K8mqcP"
      }
    },
    {
      "cell_type": "markdown",
      "source": [
        "Transposing Array:"
      ],
      "metadata": {
        "id": "RBBHpdcwmqgb"
      }
    },
    {
      "cell_type": "code",
      "source": [
        "i = np.transpose(b)\n",
        "i.T"
      ],
      "metadata": {
        "id": "CiKqz2Wfmqh9"
      },
      "execution_count": null,
      "outputs": []
    },
    {
      "cell_type": "markdown",
      "source": [
        "Changing Array Shape:"
      ],
      "metadata": {
        "id": "21Px5SQJmqmF"
      }
    },
    {
      "cell_type": "code",
      "source": [
        "b.ravel()\n",
        "g.reshape(3,-2)"
      ],
      "metadata": {
        "id": "4WegFCIemqnm"
      },
      "execution_count": null,
      "outputs": []
    },
    {
      "cell_type": "markdown",
      "source": [
        "Adding/removing elements:"
      ],
      "metadata": {
        "id": "uuUYcvnFmqrU"
      }
    },
    {
      "cell_type": "code",
      "source": [
        "h.resize((2,6))\n",
        "np.append(h,g)\n",
        "np.insert(a, 1, 5)\n",
        "np.delete(a,[1])"
      ],
      "metadata": {
        "id": "JYfZb-Yfmqs2"
      },
      "execution_count": null,
      "outputs": []
    },
    {
      "cell_type": "markdown",
      "source": [
        "Combining arrays:"
      ],
      "metadata": {
        "id": "Cmtn0e4omqwr"
      }
    },
    {
      "cell_type": "code",
      "source": [
        "np.concatenate((a,d),axis=0)\n",
        "np.vstack((a,b)) #stack vertically\n",
        "np.hstack((e,f)) #stack horizontally"
      ],
      "metadata": {
        "id": "1JvCDT5cnif6"
      },
      "execution_count": null,
      "outputs": []
    },
    {
      "cell_type": "markdown",
      "source": [
        "Splitting arrays:"
      ],
      "metadata": {
        "id": "wKzDuYnFnikp"
      }
    },
    {
      "cell_type": "code",
      "source": [
        "np.hsplit(a,3) #Split horizontally\n",
        "np.vsplit(c,2) #Split vertically"
      ],
      "metadata": {
        "id": "A0XdSaXWnimY"
      },
      "execution_count": null,
      "outputs": []
    },
    {
      "cell_type": "markdown",
      "source": [
        "Subsetting"
      ],
      "metadata": {
        "id": "ZkoLp8RPniqS"
      }
    },
    {
      "cell_type": "code",
      "source": [
        "b[1,2]"
      ],
      "metadata": {
        "id": "LPvvJK5gnisB"
      },
      "execution_count": null,
      "outputs": []
    },
    {
      "cell_type": "markdown",
      "source": [
        "Slicing:"
      ],
      "metadata": {
        "id": "o7RV-jLrnivt"
      }
    },
    {
      "cell_type": "code",
      "source": [
        "a[0:2]"
      ],
      "metadata": {
        "id": "PxBUOvpEn0rA"
      },
      "execution_count": null,
      "outputs": []
    },
    {
      "cell_type": "markdown",
      "source": [
        "Boolean Indexing:"
      ],
      "metadata": {
        "id": "N73iq6G2n0tM"
      }
    },
    {
      "cell_type": "code",
      "source": [
        "a[a<2]"
      ],
      "metadata": {
        "id": "KjKHW7xXn0wt"
      },
      "execution_count": null,
      "outputs": []
    }
  ]
}