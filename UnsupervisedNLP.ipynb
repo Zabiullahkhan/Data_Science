{
  "nbformat": 4,
  "nbformat_minor": 0,
  "metadata": {
    "colab": {
      "provenance": [],
      "collapsed_sections": [],
      "include_colab_link": true
    },
    "kernelspec": {
      "name": "python3",
      "display_name": "Python 3"
    },
    "language_info": {
      "name": "python"
    }
  },
  "cells": [
    {
      "cell_type": "markdown",
      "metadata": {
        "id": "view-in-github",
        "colab_type": "text"
      },
      "source": [
        "<a href=\"https://colab.research.google.com/github/Zabiullahkhan/Data_Science/blob/main/UnsupervisedNLP.ipynb\" target=\"_parent\"><img src=\"https://colab.research.google.com/assets/colab-badge.svg\" alt=\"Open In Colab\"/></a>"
      ]
    },
    {
      "cell_type": "markdown",
      "source": [
        "# **SentimentIntensityAnalysis**"
      ],
      "metadata": {
        "id": "IN6Q9t_zwcr6"
      }
    },
    {
      "cell_type": "code",
      "source": [
        "import nltk\n",
        "nltk.download(\"vader_lexicon\")"
      ],
      "metadata": {
        "id": "VhlBPUd-wf2f"
      },
      "execution_count": null,
      "outputs": []
    },
    {
      "cell_type": "code",
      "source": [
        "from nltk.sentiment.vader import SentimentIntensityAnalyzer\n",
        "sid = SentimentIntensityAnalyzer()"
      ],
      "metadata": {
        "id": "Mw9nS3KUxADI"
      },
      "execution_count": null,
      "outputs": []
    },
    {
      "cell_type": "code",
      "source": [
        "sent = \"i like python more than java\""
      ],
      "metadata": {
        "id": "ChMnSl3HxR0q"
      },
      "execution_count": null,
      "outputs": []
    },
    {
      "cell_type": "code",
      "source": [
        "sid.polarity_scores(sent)"
      ],
      "metadata": {
        "id": "J2pDzhhJxW5t"
      },
      "execution_count": null,
      "outputs": []
    },
    {
      "cell_type": "code",
      "source": [
        "sent1 =\"i hated going for parties\"\n",
        "sid.polarity_scores(sent1)"
      ],
      "metadata": {
        "id": "EDCFDZfzxb8D"
      },
      "execution_count": null,
      "outputs": []
    },
    {
      "cell_type": "code",
      "source": [
        "sent2 =\"this was the worst movie that has ever dissgraced the screen\"\n",
        "sid.polarity_scores(sent2)"
      ],
      "metadata": {
        "colab": {
          "base_uri": "https://localhost:8080/"
        },
        "id": "d_9BK2p_xyF0",
        "outputId": "102d9fbe-2dc3-4c37-a86e-492cb6e9c365"
      },
      "execution_count": null,
      "outputs": [
        {
          "output_type": "execute_result",
          "data": {
            "text/plain": [
              "{'compound': -0.6249, 'neg': 0.291, 'neu': 0.709, 'pos': 0.0}"
            ]
          },
          "metadata": {},
          "execution_count": 6
        }
      ]
    },
    {
      "cell_type": "code",
      "source": [
        "d = sid.polarity_scores(sent2)"
      ],
      "metadata": {
        "id": "EyLyp-7pyCmh"
      },
      "execution_count": null,
      "outputs": []
    },
    {
      "cell_type": "code",
      "source": [
        "d[\"compound\"]"
      ],
      "metadata": {
        "id": "6kPJ1QrtyJCT"
      },
      "execution_count": null,
      "outputs": []
    },
    {
      "cell_type": "code",
      "source": [
        "def checksentiment(text):\n",
        "  sid = SentimentIntensityAnalyzer()\n",
        "  d = sid.polarity_scores(text)\n",
        "  value = d[\"compound\"]\n",
        "\n",
        "  if(value>0):\n",
        "    return \"Positive\"\n",
        "  else:\n",
        "    return \"Negative\"\n"
      ],
      "metadata": {
        "id": "p8OIk_8jyPAc"
      },
      "execution_count": null,
      "outputs": []
    },
    {
      "cell_type": "code",
      "source": [
        "checksentiment(sent2)"
      ],
      "metadata": {
        "colab": {
          "base_uri": "https://localhost:8080/",
          "height": 35
        },
        "id": "p-ICYd8NzXbq",
        "outputId": "ba30ab89-9e7e-4aea-97b2-e60394c945eb"
      },
      "execution_count": null,
      "outputs": [
        {
          "output_type": "execute_result",
          "data": {
            "text/plain": [
              "'Negative'"
            ],
            "application/vnd.google.colaboratory.intrinsic+json": {
              "type": "string"
            }
          },
          "metadata": {},
          "execution_count": 16
        }
      ]
    },
    {
      "cell_type": "code",
      "source": [
        "import numpy as np\n",
        "import pandas as pd\n",
        "import warnings\n",
        "warnings.filterwarnings(\"ignore\")"
      ],
      "metadata": {
        "id": "AzZedy8vzZkm"
      },
      "execution_count": null,
      "outputs": []
    },
    {
      "cell_type": "code",
      "source": [
        "df = pd.read_csv(\"moviereviews.tsv\", sep=\"\\t\")\n",
        "df.head()"
      ],
      "metadata": {
        "id": "xKxd71HX0tpv"
      },
      "execution_count": null,
      "outputs": []
    },
    {
      "cell_type": "code",
      "source": [
        "df.info()"
      ],
      "metadata": {
        "id": "FQ6foM0H0yAo"
      },
      "execution_count": null,
      "outputs": []
    },
    {
      "cell_type": "code",
      "source": [
        "df.dropna(inplace=True)"
      ],
      "metadata": {
        "id": "dmOeISlJ04yd"
      },
      "execution_count": null,
      "outputs": []
    },
    {
      "cell_type": "code",
      "source": [
        "df.isna().sum()"
      ],
      "metadata": {
        "id": "1Om9_4PU08R8"
      },
      "execution_count": null,
      "outputs": []
    },
    {
      "cell_type": "code",
      "source": [
        "blanks = []\n",
        "\n",
        "for i, lb, rv in df.itertuples():\n",
        "  if(type(rv)==str):\n",
        "    if(rv.isspace()):\n",
        "      blanks.append(i)\n",
        "print(blanks)"
      ],
      "metadata": {
        "id": "xpv5DRwl0965"
      },
      "execution_count": null,
      "outputs": []
    },
    {
      "cell_type": "code",
      "source": [
        "df.drop(blanks, inplace=True)"
      ],
      "metadata": {
        "id": "i-XSSR2K1NMy"
      },
      "execution_count": null,
      "outputs": []
    },
    {
      "cell_type": "code",
      "source": [
        "df.head()"
      ],
      "metadata": {
        "id": "O8_RcpNe1RFr"
      },
      "execution_count": null,
      "outputs": []
    },
    {
      "cell_type": "code",
      "source": [
        "df[\"review\"]"
      ],
      "metadata": {
        "id": "JO7cV0hp1S2X"
      },
      "execution_count": null,
      "outputs": []
    },
    {
      "cell_type": "code",
      "source": [
        "df[\"review\"].apply(checksentiment)"
      ],
      "metadata": {
        "id": "kbbUgmac1ZK4"
      },
      "execution_count": null,
      "outputs": []
    },
    {
      "cell_type": "code",
      "source": [
        "df[\"Sentiment\"] = df[\"review\"].apply(checksentiment)"
      ],
      "metadata": {
        "id": "ZWAIDQIp1erB"
      },
      "execution_count": null,
      "outputs": []
    },
    {
      "cell_type": "code",
      "source": [
        "df"
      ],
      "metadata": {
        "id": "xE81ksKZ2CXO"
      },
      "execution_count": null,
      "outputs": []
    },
    {
      "cell_type": "code",
      "source": [
        "df[\"review\"][1997]"
      ],
      "metadata": {
        "id": "v9xQXck-2Low"
      },
      "execution_count": null,
      "outputs": []
    },
    {
      "cell_type": "code",
      "source": [
        "s = df[\"review\"][1997]"
      ],
      "metadata": {
        "id": "wSqBn5bE2eif"
      },
      "execution_count": null,
      "outputs": []
    },
    {
      "cell_type": "code",
      "source": [
        "sid.polarity_scores(s)"
      ],
      "metadata": {
        "id": "1afW94W52wUi"
      },
      "execution_count": null,
      "outputs": []
    }
  ]
}