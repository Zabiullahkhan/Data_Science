{
  "nbformat": 4,
  "nbformat_minor": 0,
  "metadata": {
    "colab": {
      "name": "Scikit-Learn Cheat Sheet.ipynb",
      "provenance": [],
      "authorship_tag": "ABX9TyOGhR8lG/1aKrc95Kef+vpo",
      "include_colab_link": true
    },
    "kernelspec": {
      "name": "python3",
      "display_name": "Python 3"
    },
    "language_info": {
      "name": "python"
    }
  },
  "cells": [
    {
      "cell_type": "markdown",
      "metadata": {
        "id": "view-in-github",
        "colab_type": "text"
      },
      "source": [
        "<a href=\"https://colab.research.google.com/github/Zabiullahkhan/Data_Science/blob/main/Scikit_Learn_Cheat_Sheet.ipynb\" target=\"_parent\"><img src=\"https://colab.research.google.com/assets/colab-badge.svg\" alt=\"Open In Colab\"/></a>"
      ]
    },
    {
      "cell_type": "markdown",
      "source": [
        "# Scikit-Learn Cheat Sheet\n",
        "Sklearn is a free machine learning library for Python. It features various\n",
        "classification, regression and clustering algorithms."
      ],
      "metadata": {
        "id": "bOUutzC9ocZC"
      }
    },
    {
      "cell_type": "markdown",
      "source": [
        "### Getting Started\n",
        "The code below demonstrates the basic steps of using sklearn to create and run a model\n",
        "on a set of data.\n",
        "The steps in the code include loading the data, splitting into train and test sets, scaling\n",
        "the sets, creating the model, fitting the model on the data using the trained model to\n",
        "make predictions on the test set, and finally evaluating the performance of the model."
      ],
      "metadata": {
        "id": "Wmz7aAU7o1Wn"
      }
    },
    {
      "cell_type": "code",
      "source": [
        "from sklearn import neighbors,datasets,preprocessing\n",
        "from sklearn.model_selection import train_test_split\n",
        "from sklearn.metrics import accuracy_score\n",
        "iris = datasets.load_iris()\n",
        "X,y = iris.data[:,:2], iris.target\n",
        "X_train, X_test, y_train, y_test=train_test_split(X,y)\n",
        "scaler = preprocessing_StandardScaler().fit(X_train)\n",
        "X_train = scaler.transform(X_train)\n",
        "X_test = scaler.transform(X_test)\n",
        "knn = neighbors.KNeighborsClassifier(n_neighbors = 5)\n",
        "knn.fit(X_train, y_train)\n",
        "y_pred = knn.predict(X_test)\n",
        "accuracy_score(y_test, y_pred)"
      ],
      "metadata": {
        "id": "KGnA6zYYo1by"
      },
      "execution_count": null,
      "outputs": []
    },
    {
      "cell_type": "markdown",
      "source": [
        "### Loading the Data\n",
        "The data needs to be numeric and stored as NumPy arrays or SciPy spare matrix\n",
        "(numeric arrays, such as Pandas DataFrame’s are also ok)"
      ],
      "metadata": {
        "id": "syeE7tgQo1d0"
      }
    },
    {
      "cell_type": "code",
      "source": [
        "import numpy as np\n",
        "X = np.random.random((10,5))\n",
        "array([[0.21,0.33],\n",
        "[0.23, 0.60],\n",
        "[0.48, 0.62]])\n",
        "y = np.array(['A','B','A'])\n",
        "array(['A', 'B', 'A'])"
      ],
      "metadata": {
        "id": "Aar1IFi1o1hh"
      },
      "execution_count": null,
      "outputs": []
    },
    {
      "cell_type": "markdown",
      "source": [
        "# Training and Test Data"
      ],
      "metadata": {
        "id": "iuHuGA_Xo1jW"
      }
    },
    {
      "cell_type": "code",
      "source": [
        "from sklearn.model_selection import train_test_split\n",
        "X_train,X_test,y_train,y_test = train_test_split(X,y,\n",
        "random_state = 0)#Splits data into training and test set"
      ],
      "metadata": {
        "id": "EK6zAOk5o1m3"
      },
      "execution_count": null,
      "outputs": []
    },
    {
      "cell_type": "markdown",
      "source": [
        "### Preprocessing The Data"
      ],
      "metadata": {
        "id": "NwV_1EVao1oW"
      }
    },
    {
      "cell_type": "markdown",
      "source": [
        "###### Standardization\n",
        "Standardizes the features by removing the mean and scaling to unit variance."
      ],
      "metadata": {
        "id": "G2nLAhRAo1r-"
      }
    },
    {
      "cell_type": "code",
      "source": [
        "from sklearn.preprocessing import StandardScaler\n",
        "scaler = StandardScaler().fit(X_train)\n",
        "standarized_X = scaler.transform(X_train)\n",
        "standarized_X_test = scaler.transform(X_test)"
      ],
      "metadata": {
        "id": "KV21LyOVo1tu"
      },
      "execution_count": null,
      "outputs": []
    },
    {
      "cell_type": "markdown",
      "source": [
        "###### Normalization\n",
        "Each sample (row of the data matrix) with at least one non-zero component"
      ],
      "metadata": {
        "id": "RT3h0DGXo1xS"
      }
    },
    {
      "cell_type": "code",
      "source": [
        "from sklearn.preprocessing import Normalizer\n",
        "scaler = Normalizer().fit(X_train)\n",
        "normalized_X = scaler.transform(X_train)\n",
        "normalized_X_test = scaler.transform(X_test)"
      ],
      "metadata": {
        "id": "Yrgdfomlo1yx"
      },
      "execution_count": null,
      "outputs": []
    },
    {
      "cell_type": "markdown",
      "source": [
        "##### Binarization\n",
        "Binarize data (set feature values to 0 or 1) according to a threshold."
      ],
      "metadata": {
        "id": "v4yZZWcso12k"
      }
    },
    {
      "cell_type": "code",
      "source": [
        "from sklearn.preprocessing import Binarizer\n",
        "binarizer = Binarizer(threshold = 0.0).fit(X)\n",
        "binary_X = binarizer.transform(X_test)"
      ],
      "metadata": {
        "id": "IcMsi48So14C"
      },
      "execution_count": null,
      "outputs": []
    },
    {
      "cell_type": "markdown",
      "source": [
        "##### Encoding Categorical Features\n",
        "Imputation transformer for completing missing values."
      ],
      "metadata": {
        "id": "6ftnN4hpo18e"
      }
    },
    {
      "cell_type": "code",
      "source": [
        "from sklearn import preprocessing\n",
        "le = preprocessing.LabelEncoder()\n",
        "le.fit_transform(X_train)"
      ],
      "metadata": {
        "id": "xET43YMHo1_V"
      },
      "execution_count": null,
      "outputs": []
    },
    {
      "cell_type": "markdown",
      "source": [
        "Imputing Missing Values"
      ],
      "metadata": {
        "id": "bWOzT3U6o2Cl"
      }
    },
    {
      "cell_type": "code",
      "source": [
        "from sklearn.impute import SimpleImputer\n",
        "imp = SimpleImputer(missing_values=0, strategy ='mean')\n",
        "imp.fit_transform(X_train)"
      ],
      "metadata": {
        "id": "cFj5fCWdo2GC"
      },
      "execution_count": null,
      "outputs": []
    },
    {
      "cell_type": "markdown",
      "source": [
        "Generating Polynomial Features"
      ],
      "metadata": {
        "id": "tadyGF8UrCIU"
      }
    },
    {
      "cell_type": "code",
      "source": [
        "from sklearn.preprocessing import PolynomialFeatures\n",
        "poly = PolynomialFeatures(5)\n",
        "poly.fit_transform(X)"
      ],
      "metadata": {
        "id": "_aSCzcKsrCYi"
      },
      "execution_count": null,
      "outputs": []
    },
    {
      "cell_type": "markdown",
      "source": [
        "# Create Your Model"
      ],
      "metadata": {
        "id": "UiaQwb8urCmc"
      }
    },
    {
      "cell_type": "markdown",
      "source": [
        "### Supervised Learning Models"
      ],
      "metadata": {
        "id": "BJNfBpv7rlJU"
      }
    },
    {
      "cell_type": "markdown",
      "source": [
        "Linear Regression"
      ],
      "metadata": {
        "id": "j0FfcQinrlSx"
      }
    },
    {
      "cell_type": "code",
      "source": [
        "from sklearn.linear_model import LinearRegression\n",
        "lr = LinearRegression(normalize = True)"
      ],
      "metadata": {
        "id": "BVnEX7DarlbC"
      },
      "execution_count": null,
      "outputs": []
    },
    {
      "cell_type": "markdown",
      "source": [
        "Support Vector Machines (SVM)"
      ],
      "metadata": {
        "id": "l_fq1ZHlrliv"
      }
    },
    {
      "cell_type": "code",
      "source": [
        "from sklearn.svm import SVC\n",
        "svc = SVC(kernel = 'linear')"
      ],
      "metadata": {
        "id": "FFmnXcqQrlsX"
      },
      "execution_count": null,
      "outputs": []
    },
    {
      "cell_type": "markdown",
      "source": [
        "Naive Bayes"
      ],
      "metadata": {
        "id": "Xec_DqkZrl07"
      }
    },
    {
      "cell_type": "code",
      "source": [
        "from sklearn.naive_bayes import GaussianNB\n",
        "gnb = GaussianNB()"
      ],
      "metadata": {
        "id": "GsU-Dchrrl9T"
      },
      "execution_count": null,
      "outputs": []
    },
    {
      "cell_type": "markdown",
      "source": [
        "KNN"
      ],
      "metadata": {
        "id": "B2e1WXSBrmGt"
      }
    },
    {
      "cell_type": "markdown",
      "source": [
        "### Unsupervised Learning Models"
      ],
      "metadata": {
        "id": "reBSIIOZr8IM"
      }
    },
    {
      "cell_type": "markdown",
      "source": [
        "Principal Component Analysis (PCA)"
      ],
      "metadata": {
        "id": "5zH9GjPOr8Kd"
      }
    },
    {
      "cell_type": "code",
      "source": [
        "from sklearn.decomposition import PCA\n",
        "pca = PCA(n_components = 0.95)"
      ],
      "metadata": {
        "id": "sITE4elpr8Nk"
      },
      "execution_count": null,
      "outputs": []
    },
    {
      "cell_type": "markdown",
      "source": [
        "K means"
      ],
      "metadata": {
        "id": "_pgNWpsYr8Q7"
      }
    },
    {
      "cell_type": "code",
      "source": [
        "from sklearn.cluster import KMeans\n",
        "k_means = KMeans(n_clusters = 3, random_state = 0)"
      ],
      "metadata": {
        "id": "5U7KgKTXr8eT"
      },
      "execution_count": null,
      "outputs": []
    },
    {
      "cell_type": "markdown",
      "source": [
        "### Model Fitting"
      ],
      "metadata": {
        "id": "pi4EVc7Pr8lO"
      }
    },
    {
      "cell_type": "markdown",
      "source": [
        "Fitting supervised and unsupervised learning models onto data."
      ],
      "metadata": {
        "id": "pWzJse1Gr8rk"
      }
    },
    {
      "cell_type": "markdown",
      "source": [
        "###### Supervised Learning"
      ],
      "metadata": {
        "id": "Xl6Imj5Lr8zV"
      }
    },
    {
      "cell_type": "code",
      "source": [
        "lr.fit(X, y) #Fit the model to the data\n",
        "knn.fit(X_train,y_train)\n",
        "svc.fit(X_train,y_train)"
      ],
      "metadata": {
        "id": "gf3aLuOor9E3"
      },
      "execution_count": null,
      "outputs": []
    },
    {
      "cell_type": "markdown",
      "source": [
        "###### Unsupervised Learning"
      ],
      "metadata": {
        "id": "TTpXVsJossO0"
      }
    },
    {
      "cell_type": "code",
      "source": [
        "k_means.fit(X_train) #Fit the model to the data\n",
        "pca_model = pca.fit_transform(X_train)#Fit to data,then transform"
      ],
      "metadata": {
        "id": "aEcu2Ik8ssRF"
      },
      "execution_count": null,
      "outputs": []
    },
    {
      "cell_type": "markdown",
      "source": [
        "### Prediction"
      ],
      "metadata": {
        "id": "_xs0T2_yssVU"
      }
    },
    {
      "cell_type": "markdown",
      "source": [
        "Predict Labels"
      ],
      "metadata": {
        "id": "3M435c4Xssak"
      }
    },
    {
      "cell_type": "code",
      "source": [
        "y_pred = lr.predict(X_test) #Supervised Estimators\n",
        "y_pred = k_means.predict(X_test) #Unsupervised Estimators"
      ],
      "metadata": {
        "id": "mE5_8D7Zsscr"
      },
      "execution_count": null,
      "outputs": []
    },
    {
      "cell_type": "markdown",
      "source": [
        "Estimate probability of a label"
      ],
      "metadata": {
        "id": "fQgO8oTGssti"
      }
    },
    {
      "cell_type": "code",
      "source": [
        "y_pred = knn.predict_proba(X_test)"
      ],
      "metadata": {
        "id": "KLuqhO0xss3F"
      },
      "execution_count": null,
      "outputs": []
    },
    {
      "cell_type": "markdown",
      "source": [
        "# Evaluate Your Model’s Performance"
      ],
      "metadata": {
        "id": "HMNpTFbHstEV"
      }
    },
    {
      "cell_type": "markdown",
      "source": [
        "**Classification Metrics**"
      ],
      "metadata": {
        "id": "wdcm5RKetaJ1"
      }
    },
    {
      "cell_type": "markdown",
      "source": [
        "Accuracy Score"
      ],
      "metadata": {
        "id": "xPDQZ1DTtaQU"
      }
    },
    {
      "cell_type": "code",
      "source": [
        "knn.score(X_test,y_test)\n",
        "from sklearn.metrics import accuracy_score\n",
        "accuracy_score(y_test,y_pred)"
      ],
      "metadata": {
        "id": "MjjWdqBNtaWv"
      },
      "execution_count": null,
      "outputs": []
    },
    {
      "cell_type": "markdown",
      "source": [
        "Classification Report"
      ],
      "metadata": {
        "id": "mgSYZT__taYv"
      }
    },
    {
      "cell_type": "code",
      "source": [
        "from sklearn.metrics import classification_report\n",
        "print(classification_report(y_test,y_pred))"
      ],
      "metadata": {
        "id": "0G9P0hYqtadR"
      },
      "execution_count": null,
      "outputs": []
    },
    {
      "cell_type": "markdown",
      "source": [
        "Confusion Matrix"
      ],
      "metadata": {
        "id": "jrjkeukhtaiS"
      }
    },
    {
      "cell_type": "code",
      "source": [
        "from sklearn .metrics import confusion_matrix\n",
        "print(confusion_matrix(y_test,y_pred))"
      ],
      "metadata": {
        "id": "hysE3gHpuPz-"
      },
      "execution_count": null,
      "outputs": []
    },
    {
      "cell_type": "markdown",
      "source": [
        "**Regression Metrics**"
      ],
      "metadata": {
        "id": "ezxH8_gluP80"
      }
    },
    {
      "cell_type": "markdown",
      "source": [
        "Mean Absolute Error"
      ],
      "metadata": {
        "id": "6Qqhl7EjuQB8"
      }
    },
    {
      "cell_type": "code",
      "source": [
        "from sklearn.metrics import mean_absolute_error\n",
        "mean_absolute_error(y_test,y_pred)"
      ],
      "metadata": {
        "id": "hcJ3ktZguQHa"
      },
      "execution_count": null,
      "outputs": []
    },
    {
      "cell_type": "markdown",
      "source": [
        "Mean Squared Error"
      ],
      "metadata": {
        "id": "dJzVRK_QuQML"
      }
    },
    {
      "cell_type": "code",
      "source": [
        "from sklearn.metrics import mean_squared_error\n",
        "mean_squared_error(y_test,y_pred)"
      ],
      "metadata": {
        "id": "SgYdlLc4uQOP"
      },
      "execution_count": null,
      "outputs": []
    },
    {
      "cell_type": "markdown",
      "source": [
        "R2 Score"
      ],
      "metadata": {
        "id": "Uh2Ven7quQQQ"
      }
    },
    {
      "cell_type": "code",
      "source": [
        "from sklearn.metrics import r2_score\n",
        "r2_score(y_test, y_pred)"
      ],
      "metadata": {
        "id": "8SdAgrfzuQTM"
      },
      "execution_count": null,
      "outputs": []
    },
    {
      "cell_type": "markdown",
      "source": [
        "**Clustering Metrics**"
      ],
      "metadata": {
        "id": "n2FzMjHytakP"
      }
    },
    {
      "cell_type": "markdown",
      "source": [
        "Adjusted Rand Index"
      ],
      "metadata": {
        "id": "ukJdkBkytaq2"
      }
    },
    {
      "cell_type": "code",
      "source": [
        "from sklearn.metrics import adjusted_rand_score\n",
        "adjusted_rand_score(y_test,y_pred)"
      ],
      "metadata": {
        "id": "CpY6AUJ8taxk"
      },
      "execution_count": null,
      "outputs": []
    },
    {
      "cell_type": "markdown",
      "source": [
        "Homogeneity"
      ],
      "metadata": {
        "id": "s9-AAc-Rta1o"
      }
    },
    {
      "cell_type": "code",
      "source": [
        "from sklearn.metrics import homogeneity_score\n",
        "homogeneity_score(y_test,y_pred)"
      ],
      "metadata": {
        "id": "oRaxj82tvCUB"
      },
      "execution_count": null,
      "outputs": []
    },
    {
      "cell_type": "markdown",
      "source": [
        "V-measure"
      ],
      "metadata": {
        "id": "6z7yfUYOvCfM"
      }
    },
    {
      "cell_type": "code",
      "source": [
        "from sklearn.metrics import v_measure_score\n",
        "v_measure_score(y_test,y_pred)"
      ],
      "metadata": {
        "id": "Dq4dYUDKvCjc"
      },
      "execution_count": null,
      "outputs": []
    },
    {
      "cell_type": "markdown",
      "source": [
        "### Tune Your Model"
      ],
      "metadata": {
        "id": "GIpGw0ztvCoZ"
      }
    },
    {
      "cell_type": "markdown",
      "source": [
        "Grid Search"
      ],
      "metadata": {
        "id": "lMSODIyOvCqj"
      }
    },
    {
      "cell_type": "code",
      "source": [
        "from sklearn.model_selection import GridSearchCV\n",
        "params = {'n_neighbors':np.arange(1,3),'metric':['euclidean','cityblock']}\n",
        "grid = GridSearchCV(estimator = knn, param_grid = params)\n",
        "grid.fit(X_train, y_train)\n",
        "print(grid.best_score_)\n",
        "print(grid.best_estimator_.n_neighbors)"
      ],
      "metadata": {
        "id": "nq07ASX-vCuv"
      },
      "execution_count": null,
      "outputs": []
    },
    {
      "cell_type": "code",
      "source": [
        ""
      ],
      "metadata": {
        "id": "JXFvn2b7vC3z"
      },
      "execution_count": null,
      "outputs": []
    },
    {
      "cell_type": "code",
      "source": [
        ""
      ],
      "metadata": {
        "id": "cS-080t0vDIm"
      },
      "execution_count": null,
      "outputs": []
    }
  ]
}