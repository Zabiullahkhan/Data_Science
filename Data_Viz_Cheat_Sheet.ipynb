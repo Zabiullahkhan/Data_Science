{
  "nbformat": 4,
  "nbformat_minor": 0,
  "metadata": {
    "colab": {
      "name": "Data Viz Cheat Sheet.ipynb",
      "provenance": [],
      "authorship_tag": "ABX9TyPjxEvyt0TxFvpCgoZWuN58",
      "include_colab_link": true
    },
    "kernelspec": {
      "name": "python3",
      "display_name": "Python 3"
    },
    "language_info": {
      "name": "python"
    }
  },
  "cells": [
    {
      "cell_type": "markdown",
      "metadata": {
        "id": "view-in-github",
        "colab_type": "text"
      },
      "source": [
        "<a href=\"https://colab.research.google.com/github/Zabiullahkhan/Data_Science/blob/main/Data_Viz_Cheat_Sheet.ipynb\" target=\"_parent\"><img src=\"https://colab.research.google.com/assets/colab-badge.svg\" alt=\"Open In Colab\"/></a>"
      ]
    },
    {
      "cell_type": "markdown",
      "source": [
        "# Data Viz Cheat Sheet"
      ],
      "metadata": {
        "id": "Dw4tUZhLv6tL"
      }
    },
    {
      "cell_type": "markdown",
      "source": [
        "Matplotlib is a Python 2D plotting library that produces\n",
        "figures in a variety of formats."
      ],
      "metadata": {
        "id": "KbxUE7KuwNz4"
      }
    },
    {
      "cell_type": "markdown",
      "source": [
        "### Matplotlib"
      ],
      "metadata": {
        "id": "oXm6Cz0GwN1o"
      }
    },
    {
      "cell_type": "markdown",
      "source": [
        "###### Workflow"
      ],
      "metadata": {
        "id": "38A6hNUnwN5Z"
      }
    },
    {
      "cell_type": "markdown",
      "source": [
        "The basic steps to creating plots with matplotlib are Prepare\n",
        "Data, Plot, Customize Plot, Save Plot and Show Plot."
      ],
      "metadata": {
        "id": "ahQOG-lDwN7T"
      }
    },
    {
      "cell_type": "code",
      "source": [
        "import matplotlib.pyplot as plt"
      ],
      "metadata": {
        "id": "obd_ARCFwN-x"
      },
      "execution_count": null,
      "outputs": []
    },
    {
      "cell_type": "markdown",
      "source": [
        "Example with lineplot"
      ],
      "metadata": {
        "id": "uOXYxqcBwOAU"
      }
    },
    {
      "cell_type": "markdown",
      "source": [
        "Prepare data"
      ],
      "metadata": {
        "id": "Tgq_iZ0zwOET"
      }
    },
    {
      "cell_type": "code",
      "source": [
        "x = [2017, 2018, 2019, 2020, 2021]\n",
        "y = [43, 45, 47, 48, 50]"
      ],
      "metadata": {
        "id": "a8IEGWAWwOKe"
      },
      "execution_count": null,
      "outputs": []
    },
    {
      "cell_type": "markdown",
      "source": [
        "Plot & Customize Plot"
      ],
      "metadata": {
        "id": "t0qn8bbqwOMi"
      }
    },
    {
      "cell_type": "code",
      "source": [
        "plt.plot(x,y,marker='o',linestyle='--',\n",
        "color='g', label='USA')\n",
        "plt.xlabel('Years')\n",
        "plt.ylabel('Population (M)')\n",
        "plt.title('Years vs Population')\n",
        "plt.legend(loc='lower right')\n",
        "plt.yticks([41, 45, 48, 51])"
      ],
      "metadata": {
        "id": "yYRgFsLSwORs"
      },
      "execution_count": null,
      "outputs": []
    },
    {
      "cell_type": "markdown",
      "source": [
        "Save Plot"
      ],
      "metadata": {
        "id": "TDkUd-ObwOWp"
      }
    },
    {
      "cell_type": "code",
      "source": [
        "plt.savefig('example.png')"
      ],
      "metadata": {
        "id": "2ia4ZOaywOZ1"
      },
      "execution_count": null,
      "outputs": []
    },
    {
      "cell_type": "markdown",
      "source": [
        "Show Plot"
      ],
      "metadata": {
        "id": "OiQ4gKbywOdZ"
      }
    },
    {
      "cell_type": "code",
      "source": [
        "plt.show()"
      ],
      "metadata": {
        "id": "53snQgLgwOgP"
      },
      "execution_count": null,
      "outputs": []
    },
    {
      "cell_type": "code",
      "source": [
        "Markers: '.', 'o', 'v', '<', '>'\n",
        "Line Styles: '-', '--', '-.', ':'\n",
        "Colors: 'b', 'g', 'r', 'y' #blue, green, red, yellow "
      ],
      "metadata": {
        "id": "VYQMHvnEwOl5"
      },
      "execution_count": null,
      "outputs": []
    },
    {
      "cell_type": "markdown",
      "source": [
        "Barplot"
      ],
      "metadata": {
        "id": "6siG0F6IwOo2"
      }
    },
    {
      "cell_type": "code",
      "source": [
        "x = ['USA', 'UK', 'Australia']\n",
        "y = [40, 50, 33]\n",
        "plt.bar(x, y)\n",
        "plt.show()"
      ],
      "metadata": {
        "id": "yeG-q0MvwOqW"
      },
      "execution_count": null,
      "outputs": []
    },
    {
      "cell_type": "markdown",
      "source": [
        "Piechart"
      ],
      "metadata": {
        "id": "81K9iqR5wOu1"
      }
    },
    {
      "cell_type": "code",
      "source": [
        "plt.pie(y, labels=x, autopct='%.0f %%')\n",
        "plt.show()"
      ],
      "metadata": {
        "id": "tFrgQDAwwOwj"
      },
      "execution_count": null,
      "outputs": []
    },
    {
      "cell_type": "markdown",
      "source": [
        "Histogram"
      ],
      "metadata": {
        "id": "I_onKz2bwO00"
      }
    },
    {
      "cell_type": "code",
      "source": [
        "ages = [15, 16, 17, 30, 31, 32, 35]\n",
        "bins = [15, 20, 25, 30, 35]\n",
        "plt.hist(ages, bins, edgecolor='black')\n",
        "plt.show()"
      ],
      "metadata": {
        "id": "cGtt1yHZwO2T"
      },
      "execution_count": null,
      "outputs": []
    },
    {
      "cell_type": "markdown",
      "source": [
        "Boxplots"
      ],
      "metadata": {
        "id": "uouy0oTHwO7D"
      }
    },
    {
      "cell_type": "code",
      "source": [
        "ages = [15, 16, 17, 30, 31, 32, 35]\n",
        "plt.boxplot(ages)\n",
        "plt.show()"
      ],
      "metadata": {
        "id": "t52e3K18wO8v"
      },
      "execution_count": null,
      "outputs": []
    },
    {
      "cell_type": "markdown",
      "source": [
        "Scatterplot"
      ],
      "metadata": {
        "id": "ZpsRVeXhwPBx"
      }
    },
    {
      "cell_type": "code",
      "source": [
        "a = [1, 2, 3, 4, 5, 4, 3 ,2, 5, 6, 7]\n",
        "b = [7, 2, 3, 5, 5, 7, 3, 2, 6, 3, 2]\n",
        "plt.scatter(a, b)\n",
        "plt.show()"
      ],
      "metadata": {
        "id": "2eKrFiF1wPDN"
      },
      "execution_count": null,
      "outputs": []
    },
    {
      "cell_type": "markdown",
      "source": [
        "### Subplots"
      ],
      "metadata": {
        "id": "qXK9RWr5wPHK"
      }
    },
    {
      "cell_type": "markdown",
      "source": [
        "Add the code below to make multple plots with 'n'\n",
        "number of rows and columns."
      ],
      "metadata": {
        "id": "OH34RNwZwPIv"
      }
    },
    {
      "cell_type": "code",
      "source": [
        "fig, ax = plt.subplots(nrows=1,\n",
        "ncols=2,\n",
        "sharey=True,\n",
        "figsize=(12, 4))"
      ],
      "metadata": {
        "id": "OemFiu-3wPNs"
      },
      "execution_count": null,
      "outputs": []
    },
    {
      "cell_type": "markdown",
      "source": [
        "Plot & Customize Each Graph"
      ],
      "metadata": {
        "id": "oNPRXDk_wPPf"
      }
    },
    {
      "cell_type": "code",
      "source": [
        "ax[0].plot(x, y, color='g')\n",
        "ax[0].legend()\n",
        "ax[1].plot(a, b, color='r')\n",
        "ax[1].legend()\n",
        "plt.show()"
      ],
      "metadata": {
        "id": "GWvfV7sEwPTz"
      },
      "execution_count": null,
      "outputs": []
    },
    {
      "cell_type": "markdown",
      "source": [
        "### Seaborn"
      ],
      "metadata": {
        "id": "0rV5fOsQwPVp"
      }
    },
    {
      "cell_type": "markdown",
      "source": [
        "###### Workflow"
      ],
      "metadata": {
        "id": "ryjMKOOkwPaK"
      }
    },
    {
      "cell_type": "code",
      "source": [
        "import seaborn as sns\n",
        "import matplotlib.pyplot as plt\n",
        "import pandas as pd"
      ],
      "metadata": {
        "id": "FYrPSPa8wPbq"
      },
      "execution_count": null,
      "outputs": []
    },
    {
      "cell_type": "markdown",
      "source": [
        "Lineplot"
      ],
      "metadata": {
        "id": "o1V_VI2MwPgT"
      }
    },
    {
      "cell_type": "code",
      "source": [
        "plt.figure(figsize=(10, 5))\n",
        "flights = sns.load_dataset(\"flights\")\n",
        "may_flights=flights.query(\"month=='May'\")\n",
        "ax = sns.lineplot(data=may_flights,\n",
        "x=\"year\",\n",
        "y=\"passengers\")\n",
        "ax.set(xlabel='x', ylabel='y',\n",
        "title='my_title, xticks=[1,2,3])\n",
        "ax.legend(title='my_legend,\n",
        "title_fontsize=13)\n",
        "plt.show()"
      ],
      "metadata": {
        "id": "Hv2ElV5bwPh8"
      },
      "execution_count": null,
      "outputs": []
    },
    {
      "cell_type": "markdown",
      "source": [
        "Barplot"
      ],
      "metadata": {
        "id": "1VG0LjRhwPmq"
      }
    },
    {
      "cell_type": "code",
      "source": [
        "tips = sns.load_dataset(\"tips\")\n",
        "ax = sns.barplot(x=\"day\",\n",
        "y=\"total_bill,\n",
        "data=tips)"
      ],
      "metadata": {
        "id": "zy8AkbppwPoM"
      },
      "execution_count": null,
      "outputs": []
    },
    {
      "cell_type": "markdown",
      "source": [
        "Histogram"
      ],
      "metadata": {
        "id": "LMLgLemSwPtf"
      }
    },
    {
      "cell_type": "code",
      "source": [
        "penguins = sns.load_dataset(\"penguins\")\n",
        "sns.histplot(data=penguins,\n",
        "x=\"flipper_length_mm\")"
      ],
      "metadata": {
        "id": "Z2hQxntywPvN"
      },
      "execution_count": null,
      "outputs": []
    },
    {
      "cell_type": "markdown",
      "source": [
        "Boxplot"
      ],
      "metadata": {
        "id": "8xa9qCd6wPzW"
      }
    },
    {
      "cell_type": "code",
      "source": [
        "tips = sns.load_dataset(\"tips\")\n",
        "ax = sns.boxplot(x=tips[\"total_bill\"])"
      ],
      "metadata": {
        "id": "bmgqrcLjwP1C"
      },
      "execution_count": null,
      "outputs": []
    },
    {
      "cell_type": "markdown",
      "source": [
        "Scatterplot"
      ],
      "metadata": {
        "id": "bpgbujoKwP5S"
      }
    },
    {
      "cell_type": "code",
      "source": [
        "tips = sns.load_dataset(\"tips\")\n",
        "sns.scatterplot(data=tips,\n",
        "x=\"total_bill\",\n",
        "y=\"tip\")"
      ],
      "metadata": {
        "id": "deb8xZevwP66"
      },
      "execution_count": null,
      "outputs": []
    },
    {
      "cell_type": "markdown",
      "source": [
        "Figure aesthetics"
      ],
      "metadata": {
        "id": "ula7ZfPtwP_c"
      }
    },
    {
      "cell_type": "code",
      "source": [
        "sns.set_style('darkgrid') #stlyes\n",
        "sns.set_palette('husl', 3) #palettes\n",
        "sns.color_palette('husl') #colors"
      ],
      "metadata": {
        "id": "v4ItfoPIwQA-"
      },
      "execution_count": null,
      "outputs": []
    },
    {
      "cell_type": "markdown",
      "source": [
        "Fontsize of the axes title, x and y labels, tick labels\n",
        "and legend:"
      ],
      "metadata": {
        "id": "Os0bxUiIwQFb"
      }
    },
    {
      "cell_type": "code",
      "source": [
        "plt.rc('axes', titlesize=18)\n",
        "plt.rc('axes', labelsize=14)\n",
        "plt.rc('xtick', labelsize=13)\n",
        "plt.rc('ytick', labelsize=13)\n",
        "plt.rc('legend', fontsize=13)\n",
        "plt.rc('font', size=13)"
      ],
      "metadata": {
        "id": "AksVlVZYwQG5"
      },
      "execution_count": null,
      "outputs": []
    }
  ]
}