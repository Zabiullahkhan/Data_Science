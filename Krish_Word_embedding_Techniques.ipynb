{
  "cells": [
    {
      "cell_type": "markdown",
      "metadata": {
        "id": "view-in-github",
        "colab_type": "text"
      },
      "source": [
        "<a href=\"https://colab.research.google.com/github/Zabiullahkhan/Data_Science/blob/main/Krish_Word_embedding_Techniques.ipynb\" target=\"_parent\"><img src=\"https://colab.research.google.com/assets/colab-badge.svg\" alt=\"Open In Colab\"/></a>"
      ]
    },
    {
      "cell_type": "markdown",
      "metadata": {
        "id": "eHNf7J680XF-"
      },
      "source": [
        "### Word Embedding Techniques using Embedding Layer in Keras"
      ]
    },
    {
      "cell_type": "code",
      "execution_count": null,
      "metadata": {
        "id": "PEsK0_yl0XGB"
      },
      "outputs": [],
      "source": [
        "### Libraries USed Tensorflow> 2.0  and keras"
      ]
    },
    {
      "cell_type": "code",
      "execution_count": 1,
      "metadata": {
        "colab": {
          "base_uri": "https://localhost:8080/"
        },
        "id": "pslw1Ya90XGC",
        "outputId": "84f90b6d-0ff6-41c4-c700-0bacaca12711"
      },
      "outputs": [
        {
          "output_type": "stream",
          "name": "stdout",
          "text": [
            "Looking in indexes: https://pypi.org/simple, https://us-python.pkg.dev/colab-wheels/public/simple/\n",
            "Collecting tensorflow-gpu\n",
            "  Downloading tensorflow_gpu-2.9.1-cp37-cp37m-manylinux_2_17_x86_64.manylinux2014_x86_64.whl (511.7 MB)\n",
            "\u001b[K     |████████████████████████████████| 511.7 MB 6.7 kB/s \n",
            "\u001b[?25hRequirement already satisfied: keras-preprocessing>=1.1.1 in /usr/local/lib/python3.7/dist-packages (from tensorflow-gpu) (1.1.2)\n",
            "Requirement already satisfied: wrapt>=1.11.0 in /usr/local/lib/python3.7/dist-packages (from tensorflow-gpu) (1.14.1)\n",
            "Requirement already satisfied: h5py>=2.9.0 in /usr/local/lib/python3.7/dist-packages (from tensorflow-gpu) (3.1.0)\n",
            "Requirement already satisfied: absl-py>=1.0.0 in /usr/local/lib/python3.7/dist-packages (from tensorflow-gpu) (1.2.0)\n",
            "Requirement already satisfied: libclang>=13.0.0 in /usr/local/lib/python3.7/dist-packages (from tensorflow-gpu) (14.0.6)\n",
            "Requirement already satisfied: numpy>=1.20 in /usr/local/lib/python3.7/dist-packages (from tensorflow-gpu) (1.21.6)\n",
            "Requirement already satisfied: opt-einsum>=2.3.2 in /usr/local/lib/python3.7/dist-packages (from tensorflow-gpu) (3.3.0)\n",
            "Collecting tensorflow-estimator<2.10.0,>=2.9.0rc0\n",
            "  Downloading tensorflow_estimator-2.9.0-py2.py3-none-any.whl (438 kB)\n",
            "\u001b[K     |████████████████████████████████| 438 kB 72.3 MB/s \n",
            "\u001b[?25hRequirement already satisfied: termcolor>=1.1.0 in /usr/local/lib/python3.7/dist-packages (from tensorflow-gpu) (1.1.0)\n",
            "Collecting flatbuffers<2,>=1.12\n",
            "  Downloading flatbuffers-1.12-py2.py3-none-any.whl (15 kB)\n",
            "Requirement already satisfied: protobuf<3.20,>=3.9.2 in /usr/local/lib/python3.7/dist-packages (from tensorflow-gpu) (3.17.3)\n",
            "Requirement already satisfied: grpcio<2.0,>=1.24.3 in /usr/local/lib/python3.7/dist-packages (from tensorflow-gpu) (1.47.0)\n",
            "Requirement already satisfied: google-pasta>=0.1.1 in /usr/local/lib/python3.7/dist-packages (from tensorflow-gpu) (0.2.0)\n",
            "Requirement already satisfied: tensorflow-io-gcs-filesystem>=0.23.1 in /usr/local/lib/python3.7/dist-packages (from tensorflow-gpu) (0.26.0)\n",
            "Requirement already satisfied: six>=1.12.0 in /usr/local/lib/python3.7/dist-packages (from tensorflow-gpu) (1.15.0)\n",
            "Requirement already satisfied: typing-extensions>=3.6.6 in /usr/local/lib/python3.7/dist-packages (from tensorflow-gpu) (4.1.1)\n",
            "Collecting keras<2.10.0,>=2.9.0rc0\n",
            "  Downloading keras-2.9.0-py2.py3-none-any.whl (1.6 MB)\n",
            "\u001b[K     |████████████████████████████████| 1.6 MB 59.8 MB/s \n",
            "\u001b[?25hCollecting tensorboard<2.10,>=2.9\n",
            "  Downloading tensorboard-2.9.1-py3-none-any.whl (5.8 MB)\n",
            "\u001b[K     |████████████████████████████████| 5.8 MB 59.8 MB/s \n",
            "\u001b[?25hCollecting gast<=0.4.0,>=0.2.1\n",
            "  Downloading gast-0.4.0-py3-none-any.whl (9.8 kB)\n",
            "Requirement already satisfied: setuptools in /usr/local/lib/python3.7/dist-packages (from tensorflow-gpu) (57.4.0)\n",
            "Requirement already satisfied: packaging in /usr/local/lib/python3.7/dist-packages (from tensorflow-gpu) (21.3)\n",
            "Requirement already satisfied: astunparse>=1.6.0 in /usr/local/lib/python3.7/dist-packages (from tensorflow-gpu) (1.6.3)\n",
            "Requirement already satisfied: wheel<1.0,>=0.23.0 in /usr/local/lib/python3.7/dist-packages (from astunparse>=1.6.0->tensorflow-gpu) (0.37.1)\n",
            "Requirement already satisfied: cached-property in /usr/local/lib/python3.7/dist-packages (from h5py>=2.9.0->tensorflow-gpu) (1.5.2)\n",
            "Requirement already satisfied: werkzeug>=1.0.1 in /usr/local/lib/python3.7/dist-packages (from tensorboard<2.10,>=2.9->tensorflow-gpu) (1.0.1)\n",
            "Requirement already satisfied: tensorboard-data-server<0.7.0,>=0.6.0 in /usr/local/lib/python3.7/dist-packages (from tensorboard<2.10,>=2.9->tensorflow-gpu) (0.6.1)\n",
            "Requirement already satisfied: google-auth-oauthlib<0.5,>=0.4.1 in /usr/local/lib/python3.7/dist-packages (from tensorboard<2.10,>=2.9->tensorflow-gpu) (0.4.6)\n",
            "Requirement already satisfied: requests<3,>=2.21.0 in /usr/local/lib/python3.7/dist-packages (from tensorboard<2.10,>=2.9->tensorflow-gpu) (2.23.0)\n",
            "Requirement already satisfied: google-auth<3,>=1.6.3 in /usr/local/lib/python3.7/dist-packages (from tensorboard<2.10,>=2.9->tensorflow-gpu) (1.35.0)\n",
            "Requirement already satisfied: markdown>=2.6.8 in /usr/local/lib/python3.7/dist-packages (from tensorboard<2.10,>=2.9->tensorflow-gpu) (3.4.1)\n",
            "Requirement already satisfied: tensorboard-plugin-wit>=1.6.0 in /usr/local/lib/python3.7/dist-packages (from tensorboard<2.10,>=2.9->tensorflow-gpu) (1.8.1)\n",
            "Requirement already satisfied: rsa<5,>=3.1.4 in /usr/local/lib/python3.7/dist-packages (from google-auth<3,>=1.6.3->tensorboard<2.10,>=2.9->tensorflow-gpu) (4.9)\n",
            "Requirement already satisfied: cachetools<5.0,>=2.0.0 in /usr/local/lib/python3.7/dist-packages (from google-auth<3,>=1.6.3->tensorboard<2.10,>=2.9->tensorflow-gpu) (4.2.4)\n",
            "Requirement already satisfied: pyasn1-modules>=0.2.1 in /usr/local/lib/python3.7/dist-packages (from google-auth<3,>=1.6.3->tensorboard<2.10,>=2.9->tensorflow-gpu) (0.2.8)\n",
            "Requirement already satisfied: requests-oauthlib>=0.7.0 in /usr/local/lib/python3.7/dist-packages (from google-auth-oauthlib<0.5,>=0.4.1->tensorboard<2.10,>=2.9->tensorflow-gpu) (1.3.1)\n",
            "Requirement already satisfied: importlib-metadata>=4.4 in /usr/local/lib/python3.7/dist-packages (from markdown>=2.6.8->tensorboard<2.10,>=2.9->tensorflow-gpu) (4.12.0)\n",
            "Requirement already satisfied: zipp>=0.5 in /usr/local/lib/python3.7/dist-packages (from importlib-metadata>=4.4->markdown>=2.6.8->tensorboard<2.10,>=2.9->tensorflow-gpu) (3.8.1)\n",
            "Requirement already satisfied: pyasn1<0.5.0,>=0.4.6 in /usr/local/lib/python3.7/dist-packages (from pyasn1-modules>=0.2.1->google-auth<3,>=1.6.3->tensorboard<2.10,>=2.9->tensorflow-gpu) (0.4.8)\n",
            "Requirement already satisfied: urllib3!=1.25.0,!=1.25.1,<1.26,>=1.21.1 in /usr/local/lib/python3.7/dist-packages (from requests<3,>=2.21.0->tensorboard<2.10,>=2.9->tensorflow-gpu) (1.24.3)\n",
            "Requirement already satisfied: idna<3,>=2.5 in /usr/local/lib/python3.7/dist-packages (from requests<3,>=2.21.0->tensorboard<2.10,>=2.9->tensorflow-gpu) (2.10)\n",
            "Requirement already satisfied: certifi>=2017.4.17 in /usr/local/lib/python3.7/dist-packages (from requests<3,>=2.21.0->tensorboard<2.10,>=2.9->tensorflow-gpu) (2022.6.15)\n",
            "Requirement already satisfied: chardet<4,>=3.0.2 in /usr/local/lib/python3.7/dist-packages (from requests<3,>=2.21.0->tensorboard<2.10,>=2.9->tensorflow-gpu) (3.0.4)\n",
            "Requirement already satisfied: oauthlib>=3.0.0 in /usr/local/lib/python3.7/dist-packages (from requests-oauthlib>=0.7.0->google-auth-oauthlib<0.5,>=0.4.1->tensorboard<2.10,>=2.9->tensorflow-gpu) (3.2.0)\n",
            "Requirement already satisfied: pyparsing!=3.0.5,>=2.0.2 in /usr/local/lib/python3.7/dist-packages (from packaging->tensorflow-gpu) (3.0.9)\n",
            "Installing collected packages: tensorflow-estimator, tensorboard, keras, gast, flatbuffers, tensorflow-gpu\n",
            "  Attempting uninstall: tensorflow-estimator\n",
            "    Found existing installation: tensorflow-estimator 2.8.0\n",
            "    Uninstalling tensorflow-estimator-2.8.0:\n",
            "      Successfully uninstalled tensorflow-estimator-2.8.0\n",
            "  Attempting uninstall: tensorboard\n",
            "    Found existing installation: tensorboard 2.8.0\n",
            "    Uninstalling tensorboard-2.8.0:\n",
            "      Successfully uninstalled tensorboard-2.8.0\n",
            "  Attempting uninstall: keras\n",
            "    Found existing installation: keras 2.8.0\n",
            "    Uninstalling keras-2.8.0:\n",
            "      Successfully uninstalled keras-2.8.0\n",
            "  Attempting uninstall: gast\n",
            "    Found existing installation: gast 0.5.3\n",
            "    Uninstalling gast-0.5.3:\n",
            "      Successfully uninstalled gast-0.5.3\n",
            "  Attempting uninstall: flatbuffers\n",
            "    Found existing installation: flatbuffers 2.0.7\n",
            "    Uninstalling flatbuffers-2.0.7:\n",
            "      Successfully uninstalled flatbuffers-2.0.7\n",
            "\u001b[31mERROR: pip's dependency resolver does not currently take into account all the packages that are installed. This behaviour is the source of the following dependency conflicts.\n",
            "tensorflow 2.8.2+zzzcolab20220719082949 requires keras<2.9,>=2.8.0rc0, but you have keras 2.9.0 which is incompatible.\n",
            "tensorflow 2.8.2+zzzcolab20220719082949 requires tensorboard<2.9,>=2.8, but you have tensorboard 2.9.1 which is incompatible.\n",
            "tensorflow 2.8.2+zzzcolab20220719082949 requires tensorflow-estimator<2.9,>=2.8, but you have tensorflow-estimator 2.9.0 which is incompatible.\u001b[0m\n",
            "Successfully installed flatbuffers-1.12 gast-0.4.0 keras-2.9.0 tensorboard-2.9.1 tensorflow-estimator-2.9.0 tensorflow-gpu-2.9.1\n"
          ]
        }
      ],
      "source": [
        "!pip install tensorflow-gpu"
      ]
    },
    {
      "cell_type": "code",
      "source": [
        "import tensorflow as tf\n",
        "print(tf.__version__)"
      ],
      "metadata": {
        "colab": {
          "base_uri": "https://localhost:8080/"
        },
        "id": "yZ5hceiMAX7n",
        "outputId": "ce284bbb-777f-4ab3-ff46-7d914705683e"
      },
      "execution_count": 2,
      "outputs": [
        {
          "output_type": "stream",
          "name": "stdout",
          "text": [
            "2.9.1\n"
          ]
        }
      ]
    },
    {
      "cell_type": "code",
      "execution_count": 3,
      "metadata": {
        "id": "k4nKifUl0XGC"
      },
      "outputs": [],
      "source": [
        "##tensorflow >2.0\n",
        "from tensorflow.keras.preprocessing.text import one_hot"
      ]
    },
    {
      "cell_type": "code",
      "source": [],
      "metadata": {
        "id": "hADTdqZTAUfS"
      },
      "execution_count": null,
      "outputs": []
    },
    {
      "cell_type": "code",
      "execution_count": 4,
      "metadata": {
        "id": "Fu9PuYeu0XGD"
      },
      "outputs": [],
      "source": [
        "### sentences\n",
        "sent=[  'the glass of milk',\n",
        "     'the glass of juice',\n",
        "     'the cup of tea',\n",
        "    'I am a good boy',\n",
        "     'I am a good developer',\n",
        "     'understand the meaning of words',\n",
        "     'your videos are good']"
      ]
    },
    {
      "cell_type": "code",
      "execution_count": 5,
      "metadata": {
        "colab": {
          "base_uri": "https://localhost:8080/"
        },
        "id": "x5d1D3_20XGD",
        "outputId": "de61c21f-5d43-41c2-957f-bc891684c34d"
      },
      "outputs": [
        {
          "output_type": "execute_result",
          "data": {
            "text/plain": [
              "['the glass of milk',\n",
              " 'the glass of juice',\n",
              " 'the cup of tea',\n",
              " 'I am a good boy',\n",
              " 'I am a good developer',\n",
              " 'understand the meaning of words',\n",
              " 'your videos are good']"
            ]
          },
          "metadata": {},
          "execution_count": 5
        }
      ],
      "source": [
        "sent"
      ]
    },
    {
      "cell_type": "code",
      "execution_count": 10,
      "metadata": {
        "id": "tjnXIn3B0XGE"
      },
      "outputs": [],
      "source": [
        "### Vocabulary size\n",
        "voc_size=500"
      ]
    },
    {
      "cell_type": "markdown",
      "metadata": {
        "id": "-vQOdeKk0XGE"
      },
      "source": [
        "#### One Hot Representation"
      ]
    },
    {
      "cell_type": "code",
      "execution_count": 11,
      "metadata": {
        "colab": {
          "base_uri": "https://localhost:8080/"
        },
        "id": "gojfZpAW0XGE",
        "outputId": "f6cb59b0-f41c-4d90-d19e-9d7f87a37527"
      },
      "outputs": [
        {
          "output_type": "stream",
          "name": "stdout",
          "text": [
            "[[409, 114, 276, 20], [409, 114, 276, 231], [409, 402, 276, 256], [420, 91, 230, 349, 49], [420, 91, 230, 349, 308], [135, 409, 282, 276, 79], [77, 16, 147, 349]]\n"
          ]
        }
      ],
      "source": [
        "onehot_repr=[one_hot(words,voc_size)for words in sent] \n",
        "print(onehot_repr)"
      ]
    },
    {
      "cell_type": "markdown",
      "metadata": {
        "id": "eYG267x40XGF"
      },
      "source": [
        "### Word Embedding Represntation"
      ]
    },
    {
      "cell_type": "code",
      "execution_count": 12,
      "metadata": {
        "id": "wpqPm0tb0XGF"
      },
      "outputs": [],
      "source": [
        "from tensorflow.keras.layers import Embedding\n",
        "from tensorflow.keras.preprocessing.sequence import pad_sequences\n",
        "from tensorflow.keras.models import Sequential"
      ]
    },
    {
      "cell_type": "code",
      "execution_count": 13,
      "metadata": {
        "id": "Rov3GTM00XGG"
      },
      "outputs": [],
      "source": [
        "import numpy as np"
      ]
    },
    {
      "cell_type": "code",
      "execution_count": 14,
      "metadata": {
        "colab": {
          "base_uri": "https://localhost:8080/"
        },
        "id": "8fQLPw6p0XGG",
        "outputId": "722e20e0-9479-4763-ba4c-3e9f99b0c888"
      },
      "outputs": [
        {
          "output_type": "stream",
          "name": "stdout",
          "text": [
            "[[  0   0   0   0 409 114 276  20]\n",
            " [  0   0   0   0 409 114 276 231]\n",
            " [  0   0   0   0 409 402 276 256]\n",
            " [  0   0   0 420  91 230 349  49]\n",
            " [  0   0   0 420  91 230 349 308]\n",
            " [  0   0   0 135 409 282 276  79]\n",
            " [  0   0   0   0  77  16 147 349]]\n"
          ]
        }
      ],
      "source": [
        "## pre padding\n",
        "sent_length=8\n",
        "embedded_docs=pad_sequences(onehot_repr,padding='pre',maxlen=sent_length)\n",
        "print(embedded_docs)"
      ]
    },
    {
      "cell_type": "code",
      "execution_count": 15,
      "metadata": {
        "id": "yjQqBYac0XGG"
      },
      "outputs": [],
      "source": [
        "## 10 feature dimesnions\n",
        "dim=10\n"
      ]
    },
    {
      "cell_type": "code",
      "execution_count": 16,
      "metadata": {
        "id": "ozC-TXrt0XGG"
      },
      "outputs": [],
      "source": [
        "model=Sequential()\n",
        "model.add(Embedding(voc_size,10,input_length=sent_length))\n",
        "model.compile('adam','mse')"
      ]
    },
    {
      "cell_type": "code",
      "execution_count": 17,
      "metadata": {
        "colab": {
          "base_uri": "https://localhost:8080/"
        },
        "id": "tMNvq-Ji0XGH",
        "outputId": "84864270-e0a7-4c49-be3a-e8fddbd9a740"
      },
      "outputs": [
        {
          "output_type": "stream",
          "name": "stdout",
          "text": [
            "Model: \"sequential\"\n",
            "_________________________________________________________________\n",
            " Layer (type)                Output Shape              Param #   \n",
            "=================================================================\n",
            " embedding (Embedding)       (None, 8, 10)             5000      \n",
            "                                                                 \n",
            "=================================================================\n",
            "Total params: 5,000\n",
            "Trainable params: 5,000\n",
            "Non-trainable params: 0\n",
            "_________________________________________________________________\n"
          ]
        }
      ],
      "source": [
        "model.summary()"
      ]
    },
    {
      "cell_type": "code",
      "source": [
        "##'the glass of milk',\n",
        "embedded_docs[0]"
      ],
      "metadata": {
        "colab": {
          "base_uri": "https://localhost:8080/"
        },
        "id": "FC4Ess_FEcb3",
        "outputId": "9146e25c-7418-49a7-a641-1227a7891f2e"
      },
      "execution_count": 18,
      "outputs": [
        {
          "output_type": "execute_result",
          "data": {
            "text/plain": [
              "array([  0,   0,   0,   0, 409, 114, 276,  20], dtype=int32)"
            ]
          },
          "metadata": {},
          "execution_count": 18
        }
      ]
    },
    {
      "cell_type": "code",
      "source": [
        "model.predict(embedded_docs[0])"
      ],
      "metadata": {
        "colab": {
          "base_uri": "https://localhost:8080/"
        },
        "id": "bRqEvMBYEZUS",
        "outputId": "378e510a-bcd5-4ede-a39c-0139471ead14"
      },
      "execution_count": 19,
      "outputs": [
        {
          "output_type": "stream",
          "name": "stderr",
          "text": [
            "WARNING:tensorflow:Model was constructed with shape (None, 8) for input KerasTensor(type_spec=TensorSpec(shape=(None, 8), dtype=tf.float32, name='embedding_input'), name='embedding_input', description=\"created by layer 'embedding_input'\"), but it was called on an input with incompatible shape (None,).\n"
          ]
        },
        {
          "output_type": "stream",
          "name": "stdout",
          "text": [
            "1/1 [==============================] - 0s 66ms/step\n"
          ]
        },
        {
          "output_type": "execute_result",
          "data": {
            "text/plain": [
              "array([[ 0.01347432, -0.0368381 ,  0.0094584 , -0.03862176,  0.00990032,\n",
              "        -0.03344071,  0.04675673, -0.0351199 ,  0.03503721, -0.01308434],\n",
              "       [ 0.01347432, -0.0368381 ,  0.0094584 , -0.03862176,  0.00990032,\n",
              "        -0.03344071,  0.04675673, -0.0351199 ,  0.03503721, -0.01308434],\n",
              "       [ 0.01347432, -0.0368381 ,  0.0094584 , -0.03862176,  0.00990032,\n",
              "        -0.03344071,  0.04675673, -0.0351199 ,  0.03503721, -0.01308434],\n",
              "       [ 0.01347432, -0.0368381 ,  0.0094584 , -0.03862176,  0.00990032,\n",
              "        -0.03344071,  0.04675673, -0.0351199 ,  0.03503721, -0.01308434],\n",
              "       [ 0.02409439, -0.02612332, -0.01115816, -0.02842011,  0.03316906,\n",
              "        -0.00617754,  0.02990259,  0.02108777,  0.00960201, -0.0171253 ],\n",
              "       [-0.00515671,  0.03469114, -0.02467139,  0.01143644,  0.02854215,\n",
              "        -0.04275519,  0.03389775,  0.02689738,  0.03797367,  0.03112701],\n",
              "       [ 0.01680266, -0.0276046 ,  0.02754101, -0.01705457, -0.01789315,\n",
              "        -0.0095524 , -0.02579536,  0.00432745,  0.04485713,  0.04820336],\n",
              "       [ 0.01776372,  0.01075314, -0.01567445,  0.04915084, -0.02862983,\n",
              "        -0.00393905,  0.01596713, -0.02087753,  0.02374781,  0.01635734]],\n",
              "      dtype=float32)"
            ]
          },
          "metadata": {},
          "execution_count": 19
        }
      ]
    },
    {
      "cell_type": "code",
      "execution_count": 20,
      "metadata": {
        "colab": {
          "base_uri": "https://localhost:8080/"
        },
        "id": "kzKP69gx0XGH",
        "outputId": "a32e4097-5493-4645-b421-f4fb7232c99b"
      },
      "outputs": [
        {
          "output_type": "stream",
          "name": "stdout",
          "text": [
            "1/1 [==============================] - 0s 29ms/step\n",
            "[[[ 1.3474319e-02 -3.6838103e-02  9.4584003e-03 -3.8621761e-02\n",
            "    9.9003203e-03 -3.3440709e-02  4.6756733e-02 -3.5119902e-02\n",
            "    3.5037208e-02 -1.3084341e-02]\n",
            "  [ 1.3474319e-02 -3.6838103e-02  9.4584003e-03 -3.8621761e-02\n",
            "    9.9003203e-03 -3.3440709e-02  4.6756733e-02 -3.5119902e-02\n",
            "    3.5037208e-02 -1.3084341e-02]\n",
            "  [ 1.3474319e-02 -3.6838103e-02  9.4584003e-03 -3.8621761e-02\n",
            "    9.9003203e-03 -3.3440709e-02  4.6756733e-02 -3.5119902e-02\n",
            "    3.5037208e-02 -1.3084341e-02]\n",
            "  [ 1.3474319e-02 -3.6838103e-02  9.4584003e-03 -3.8621761e-02\n",
            "    9.9003203e-03 -3.3440709e-02  4.6756733e-02 -3.5119902e-02\n",
            "    3.5037208e-02 -1.3084341e-02]\n",
            "  [ 2.4094392e-02 -2.6123321e-02 -1.1158157e-02 -2.8420115e-02\n",
            "    3.3169065e-02 -6.1775446e-03  2.9902589e-02  2.1087769e-02\n",
            "    9.6020103e-03 -1.7125297e-02]\n",
            "  [-5.1567070e-03  3.4691144e-02 -2.4671389e-02  1.1436440e-02\n",
            "    2.8542150e-02 -4.2755187e-02  3.3897746e-02  2.6897382e-02\n",
            "    3.7973668e-02  3.1127010e-02]\n",
            "  [ 1.6802657e-02 -2.7604604e-02  2.7541008e-02 -1.7054569e-02\n",
            "   -1.7893147e-02 -9.5523968e-03 -2.5795365e-02  4.3274537e-03\n",
            "    4.4857133e-02  4.8203360e-02]\n",
            "  [ 1.7763723e-02  1.0753144e-02 -1.5674450e-02  4.9150836e-02\n",
            "   -2.8629828e-02 -3.9390549e-03  1.5967134e-02 -2.0877529e-02\n",
            "    2.3747806e-02  1.6357336e-02]]\n",
            "\n",
            " [[ 1.3474319e-02 -3.6838103e-02  9.4584003e-03 -3.8621761e-02\n",
            "    9.9003203e-03 -3.3440709e-02  4.6756733e-02 -3.5119902e-02\n",
            "    3.5037208e-02 -1.3084341e-02]\n",
            "  [ 1.3474319e-02 -3.6838103e-02  9.4584003e-03 -3.8621761e-02\n",
            "    9.9003203e-03 -3.3440709e-02  4.6756733e-02 -3.5119902e-02\n",
            "    3.5037208e-02 -1.3084341e-02]\n",
            "  [ 1.3474319e-02 -3.6838103e-02  9.4584003e-03 -3.8621761e-02\n",
            "    9.9003203e-03 -3.3440709e-02  4.6756733e-02 -3.5119902e-02\n",
            "    3.5037208e-02 -1.3084341e-02]\n",
            "  [ 1.3474319e-02 -3.6838103e-02  9.4584003e-03 -3.8621761e-02\n",
            "    9.9003203e-03 -3.3440709e-02  4.6756733e-02 -3.5119902e-02\n",
            "    3.5037208e-02 -1.3084341e-02]\n",
            "  [ 2.4094392e-02 -2.6123321e-02 -1.1158157e-02 -2.8420115e-02\n",
            "    3.3169065e-02 -6.1775446e-03  2.9902589e-02  2.1087769e-02\n",
            "    9.6020103e-03 -1.7125297e-02]\n",
            "  [-5.1567070e-03  3.4691144e-02 -2.4671389e-02  1.1436440e-02\n",
            "    2.8542150e-02 -4.2755187e-02  3.3897746e-02  2.6897382e-02\n",
            "    3.7973668e-02  3.1127010e-02]\n",
            "  [ 1.6802657e-02 -2.7604604e-02  2.7541008e-02 -1.7054569e-02\n",
            "   -1.7893147e-02 -9.5523968e-03 -2.5795365e-02  4.3274537e-03\n",
            "    4.4857133e-02  4.8203360e-02]\n",
            "  [ 3.1517040e-02  3.8376320e-02 -1.4516316e-02  3.6628950e-02\n",
            "    3.6440492e-03  2.6733983e-02 -2.5523877e-02  4.1680958e-02\n",
            "   -6.7174658e-03 -3.9636385e-02]]\n",
            "\n",
            " [[ 1.3474319e-02 -3.6838103e-02  9.4584003e-03 -3.8621761e-02\n",
            "    9.9003203e-03 -3.3440709e-02  4.6756733e-02 -3.5119902e-02\n",
            "    3.5037208e-02 -1.3084341e-02]\n",
            "  [ 1.3474319e-02 -3.6838103e-02  9.4584003e-03 -3.8621761e-02\n",
            "    9.9003203e-03 -3.3440709e-02  4.6756733e-02 -3.5119902e-02\n",
            "    3.5037208e-02 -1.3084341e-02]\n",
            "  [ 1.3474319e-02 -3.6838103e-02  9.4584003e-03 -3.8621761e-02\n",
            "    9.9003203e-03 -3.3440709e-02  4.6756733e-02 -3.5119902e-02\n",
            "    3.5037208e-02 -1.3084341e-02]\n",
            "  [ 1.3474319e-02 -3.6838103e-02  9.4584003e-03 -3.8621761e-02\n",
            "    9.9003203e-03 -3.3440709e-02  4.6756733e-02 -3.5119902e-02\n",
            "    3.5037208e-02 -1.3084341e-02]\n",
            "  [ 2.4094392e-02 -2.6123321e-02 -1.1158157e-02 -2.8420115e-02\n",
            "    3.3169065e-02 -6.1775446e-03  2.9902589e-02  2.1087769e-02\n",
            "    9.6020103e-03 -1.7125297e-02]\n",
            "  [ 1.1405237e-03 -2.5300194e-02  3.8044419e-02  1.4981616e-02\n",
            "   -2.2935713e-02 -1.7027356e-02 -3.6528610e-02  4.8778653e-03\n",
            "    3.8173310e-03  3.9972890e-02]\n",
            "  [ 1.6802657e-02 -2.7604604e-02  2.7541008e-02 -1.7054569e-02\n",
            "   -1.7893147e-02 -9.5523968e-03 -2.5795365e-02  4.3274537e-03\n",
            "    4.4857133e-02  4.8203360e-02]\n",
            "  [ 4.9071338e-02 -3.0965731e-04  1.3263229e-02 -2.2284865e-02\n",
            "    1.6180802e-02 -2.2884607e-02  1.4530424e-02  4.9551595e-02\n",
            "   -1.8470634e-02  3.6083944e-03]]\n",
            "\n",
            " [[ 1.3474319e-02 -3.6838103e-02  9.4584003e-03 -3.8621761e-02\n",
            "    9.9003203e-03 -3.3440709e-02  4.6756733e-02 -3.5119902e-02\n",
            "    3.5037208e-02 -1.3084341e-02]\n",
            "  [ 1.3474319e-02 -3.6838103e-02  9.4584003e-03 -3.8621761e-02\n",
            "    9.9003203e-03 -3.3440709e-02  4.6756733e-02 -3.5119902e-02\n",
            "    3.5037208e-02 -1.3084341e-02]\n",
            "  [ 1.3474319e-02 -3.6838103e-02  9.4584003e-03 -3.8621761e-02\n",
            "    9.9003203e-03 -3.3440709e-02  4.6756733e-02 -3.5119902e-02\n",
            "    3.5037208e-02 -1.3084341e-02]\n",
            "  [ 1.2464881e-02  4.1706350e-02 -2.5170028e-02 -3.2881379e-02\n",
            "    4.0087808e-02 -4.0915180e-02 -3.9743256e-02 -3.7752640e-02\n",
            "   -2.8919948e-02 -4.9970210e-02]\n",
            "  [-1.4601193e-02 -2.9253125e-02 -4.2071093e-02  4.0027652e-02\n",
            "   -2.5803400e-02 -3.9468110e-02 -2.2391593e-02  2.1566305e-02\n",
            "   -4.9045198e-03  4.3468107e-02]\n",
            "  [ 4.0866975e-02 -2.3567557e-02 -2.2537494e-02  2.7269933e-02\n",
            "    4.0656302e-02  2.0267319e-02  3.7899982e-02  2.2256758e-02\n",
            "   -4.4124343e-02 -2.2786463e-02]\n",
            "  [-4.0659070e-02  3.0628297e-02 -4.7805000e-02 -1.5456453e-03\n",
            "   -3.8949735e-03  3.9335553e-02 -3.4502458e-02  2.2892728e-03\n",
            "    4.6463575e-02  2.4088655e-02]\n",
            "  [-2.3299599e-02 -3.4947503e-02  3.2124709e-02 -9.3330145e-03\n",
            "   -1.0722183e-02 -1.4463734e-02  3.0473422e-02  8.7195523e-03\n",
            "   -4.7450364e-02 -3.4167338e-02]]\n",
            "\n",
            " [[ 1.3474319e-02 -3.6838103e-02  9.4584003e-03 -3.8621761e-02\n",
            "    9.9003203e-03 -3.3440709e-02  4.6756733e-02 -3.5119902e-02\n",
            "    3.5037208e-02 -1.3084341e-02]\n",
            "  [ 1.3474319e-02 -3.6838103e-02  9.4584003e-03 -3.8621761e-02\n",
            "    9.9003203e-03 -3.3440709e-02  4.6756733e-02 -3.5119902e-02\n",
            "    3.5037208e-02 -1.3084341e-02]\n",
            "  [ 1.3474319e-02 -3.6838103e-02  9.4584003e-03 -3.8621761e-02\n",
            "    9.9003203e-03 -3.3440709e-02  4.6756733e-02 -3.5119902e-02\n",
            "    3.5037208e-02 -1.3084341e-02]\n",
            "  [ 1.2464881e-02  4.1706350e-02 -2.5170028e-02 -3.2881379e-02\n",
            "    4.0087808e-02 -4.0915180e-02 -3.9743256e-02 -3.7752640e-02\n",
            "   -2.8919948e-02 -4.9970210e-02]\n",
            "  [-1.4601193e-02 -2.9253125e-02 -4.2071093e-02  4.0027652e-02\n",
            "   -2.5803400e-02 -3.9468110e-02 -2.2391593e-02  2.1566305e-02\n",
            "   -4.9045198e-03  4.3468107e-02]\n",
            "  [ 4.0866975e-02 -2.3567557e-02 -2.2537494e-02  2.7269933e-02\n",
            "    4.0656302e-02  2.0267319e-02  3.7899982e-02  2.2256758e-02\n",
            "   -4.4124343e-02 -2.2786463e-02]\n",
            "  [-4.0659070e-02  3.0628297e-02 -4.7805000e-02 -1.5456453e-03\n",
            "   -3.8949735e-03  3.9335553e-02 -3.4502458e-02  2.2892728e-03\n",
            "    4.6463575e-02  2.4088655e-02]\n",
            "  [-2.9814696e-02  2.8543044e-02 -1.9248307e-02  3.1238571e-03\n",
            "    3.3012558e-02  1.4316868e-02  2.9139642e-02 -4.8387874e-02\n",
            "   -1.4784932e-03  4.0812444e-02]]\n",
            "\n",
            " [[ 1.3474319e-02 -3.6838103e-02  9.4584003e-03 -3.8621761e-02\n",
            "    9.9003203e-03 -3.3440709e-02  4.6756733e-02 -3.5119902e-02\n",
            "    3.5037208e-02 -1.3084341e-02]\n",
            "  [ 1.3474319e-02 -3.6838103e-02  9.4584003e-03 -3.8621761e-02\n",
            "    9.9003203e-03 -3.3440709e-02  4.6756733e-02 -3.5119902e-02\n",
            "    3.5037208e-02 -1.3084341e-02]\n",
            "  [ 1.3474319e-02 -3.6838103e-02  9.4584003e-03 -3.8621761e-02\n",
            "    9.9003203e-03 -3.3440709e-02  4.6756733e-02 -3.5119902e-02\n",
            "    3.5037208e-02 -1.3084341e-02]\n",
            "  [ 4.0885199e-02 -3.8896490e-02 -4.4463005e-02 -3.3399273e-02\n",
            "    1.7076064e-02 -4.9229026e-02  2.4289858e-02 -4.8349872e-03\n",
            "    3.2234732e-02 -3.6243297e-02]\n",
            "  [ 2.4094392e-02 -2.6123321e-02 -1.1158157e-02 -2.8420115e-02\n",
            "    3.3169065e-02 -6.1775446e-03  2.9902589e-02  2.1087769e-02\n",
            "    9.6020103e-03 -1.7125297e-02]\n",
            "  [-4.6817176e-03  4.9180161e-02 -1.5062619e-02 -1.0007691e-02\n",
            "   -2.4602497e-02 -2.2540187e-02 -4.8433613e-02 -9.8486319e-03\n",
            "   -4.6775308e-02  2.9840600e-02]\n",
            "  [ 1.6802657e-02 -2.7604604e-02  2.7541008e-02 -1.7054569e-02\n",
            "   -1.7893147e-02 -9.5523968e-03 -2.5795365e-02  4.3274537e-03\n",
            "    4.4857133e-02  4.8203360e-02]\n",
            "  [ 4.0588528e-04 -6.8945289e-03  1.1118874e-03  2.8725378e-03\n",
            "    7.2921999e-03 -4.8686076e-02  1.9186024e-02  4.6751056e-02\n",
            "   -5.6453831e-03 -4.9828351e-02]]\n",
            "\n",
            " [[ 1.3474319e-02 -3.6838103e-02  9.4584003e-03 -3.8621761e-02\n",
            "    9.9003203e-03 -3.3440709e-02  4.6756733e-02 -3.5119902e-02\n",
            "    3.5037208e-02 -1.3084341e-02]\n",
            "  [ 1.3474319e-02 -3.6838103e-02  9.4584003e-03 -3.8621761e-02\n",
            "    9.9003203e-03 -3.3440709e-02  4.6756733e-02 -3.5119902e-02\n",
            "    3.5037208e-02 -1.3084341e-02]\n",
            "  [ 1.3474319e-02 -3.6838103e-02  9.4584003e-03 -3.8621761e-02\n",
            "    9.9003203e-03 -3.3440709e-02  4.6756733e-02 -3.5119902e-02\n",
            "    3.5037208e-02 -1.3084341e-02]\n",
            "  [ 1.3474319e-02 -3.6838103e-02  9.4584003e-03 -3.8621761e-02\n",
            "    9.9003203e-03 -3.3440709e-02  4.6756733e-02 -3.5119902e-02\n",
            "    3.5037208e-02 -1.3084341e-02]\n",
            "  [ 4.1913763e-03  3.7079047e-02  1.6198013e-02  3.2335367e-02\n",
            "    1.6849253e-02 -2.0731842e-02  3.5097603e-02  2.2001330e-02\n",
            "   -2.9563105e-02  1.0575067e-02]\n",
            "  [ 4.4717345e-02 -4.5774590e-02  3.5209928e-02  1.9083980e-02\n",
            "    8.0109462e-03  2.2280585e-02  3.5108160e-02  3.3330116e-02\n",
            "    1.8439624e-02 -1.0698713e-02]\n",
            "  [-1.1238087e-02  3.8698364e-02 -6.8321824e-06 -1.0543693e-02\n",
            "    1.9173268e-02  2.6321817e-02 -2.8049542e-02  4.5940671e-02\n",
            "    2.1391425e-02  9.1252103e-03]\n",
            "  [-4.0659070e-02  3.0628297e-02 -4.7805000e-02 -1.5456453e-03\n",
            "   -3.8949735e-03  3.9335553e-02 -3.4502458e-02  2.2892728e-03\n",
            "    4.6463575e-02  2.4088655e-02]]]\n"
          ]
        }
      ],
      "source": [
        "print(model.predict(embedded_docs))"
      ]
    },
    {
      "cell_type": "code",
      "execution_count": 21,
      "metadata": {
        "id": "JuUxfk7d0XGH",
        "outputId": "4f584117-8918-4e58-899b-adc7bcf1bd29",
        "colab": {
          "base_uri": "https://localhost:8080/"
        }
      },
      "outputs": [
        {
          "output_type": "execute_result",
          "data": {
            "text/plain": [
              "array([  0,   0,   0,   0, 409, 114, 276,  20], dtype=int32)"
            ]
          },
          "metadata": {},
          "execution_count": 21
        }
      ],
      "source": [
        "embedded_docs[0]"
      ]
    },
    {
      "cell_type": "code",
      "execution_count": 22,
      "metadata": {
        "id": "6JJ_zD0u0XGH",
        "outputId": "3a1f8e16-e6cd-4335-bad1-edd8202d48f7",
        "colab": {
          "base_uri": "https://localhost:8080/"
        }
      },
      "outputs": [
        {
          "output_type": "stream",
          "name": "stdout",
          "text": [
            "1/1 [==============================] - 0s 14ms/step\n",
            "[[ 0.01347432 -0.0368381   0.0094584  -0.03862176  0.00990032 -0.03344071\n",
            "   0.04675673 -0.0351199   0.03503721 -0.01308434]\n",
            " [ 0.01347432 -0.0368381   0.0094584  -0.03862176  0.00990032 -0.03344071\n",
            "   0.04675673 -0.0351199   0.03503721 -0.01308434]\n",
            " [ 0.01347432 -0.0368381   0.0094584  -0.03862176  0.00990032 -0.03344071\n",
            "   0.04675673 -0.0351199   0.03503721 -0.01308434]\n",
            " [ 0.01347432 -0.0368381   0.0094584  -0.03862176  0.00990032 -0.03344071\n",
            "   0.04675673 -0.0351199   0.03503721 -0.01308434]\n",
            " [ 0.02409439 -0.02612332 -0.01115816 -0.02842011  0.03316906 -0.00617754\n",
            "   0.02990259  0.02108777  0.00960201 -0.0171253 ]\n",
            " [-0.00515671  0.03469114 -0.02467139  0.01143644  0.02854215 -0.04275519\n",
            "   0.03389775  0.02689738  0.03797367  0.03112701]\n",
            " [ 0.01680266 -0.0276046   0.02754101 -0.01705457 -0.01789315 -0.0095524\n",
            "  -0.02579536  0.00432745  0.04485713  0.04820336]\n",
            " [ 0.01776372  0.01075314 -0.01567445  0.04915084 -0.02862983 -0.00393905\n",
            "   0.01596713 -0.02087753  0.02374781  0.01635734]]\n"
          ]
        }
      ],
      "source": [
        "print(model.predict(embedded_docs)[0])"
      ]
    },
    {
      "cell_type": "code",
      "execution_count": null,
      "metadata": {
        "id": "8OMu3iAz0XGH"
      },
      "outputs": [],
      "source": [
        "### Assignment\n",
        "\n",
        "sent=[\"The world is a better place\",\n",
        "      \"Marvel series is my favourite movie\",\n",
        "      \"I like DC movies\",\n",
        "      \"the cat is eating the food\",\n",
        "      \"Tom and Jerry is my favourite movie\",\n",
        "      \"Python is my favourite programming language\"\n",
        "      ]"
      ]
    }
  ],
  "metadata": {
    "kernelspec": {
      "display_name": "Python 3",
      "language": "python",
      "name": "python3"
    },
    "language_info": {
      "codemirror_mode": {
        "name": "ipython",
        "version": 3
      },
      "file_extension": ".py",
      "mimetype": "text/x-python",
      "name": "python",
      "nbconvert_exporter": "python",
      "pygments_lexer": "ipython3",
      "version": "3.7.4"
    },
    "colab": {
      "name": "Word embedding Techniques.ipynb",
      "provenance": [],
      "collapsed_sections": [],
      "include_colab_link": true
    },
    "accelerator": "GPU",
    "gpuClass": "standard"
  },
  "nbformat": 4,
  "nbformat_minor": 0
}