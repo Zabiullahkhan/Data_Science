{
  "nbformat": 4,
  "nbformat_minor": 0,
  "metadata": {
    "colab": {
      "name": "List_Comprehension.ipynb",
      "provenance": [],
      "collapsed_sections": [
        "Eg4LJHtWEMSW"
      ],
      "authorship_tag": "ABX9TyMqsKnASAWX+oNohLMR0er0",
      "include_colab_link": true
    },
    "kernelspec": {
      "name": "python3",
      "display_name": "Python 3"
    },
    "language_info": {
      "name": "python"
    }
  },
  "cells": [
    {
      "cell_type": "markdown",
      "metadata": {
        "id": "view-in-github",
        "colab_type": "text"
      },
      "source": [
        "<a href=\"https://colab.research.google.com/github/Zabiullahkhan/Data_Science/blob/main/List_Comprehension.ipynb\" target=\"_parent\"><img src=\"https://colab.research.google.com/assets/colab-badge.svg\" alt=\"Open In Colab\"/></a>"
      ]
    },
    {
      "cell_type": "markdown",
      "source": [
        "# what is list comprehension\n",
        "# Learn list comprehension\n",
        "# learn Dictionary comprehension"
      ],
      "metadata": {
        "id": "4xFcK86GBQNr"
      }
    },
    {
      "cell_type": "code",
      "source": [
        "my_list = [i for i in range(10)]"
      ],
      "metadata": {
        "id": "PyDtjwaqBaqh"
      },
      "execution_count": 1,
      "outputs": []
    },
    {
      "cell_type": "code",
      "source": [
        "my_list"
      ],
      "metadata": {
        "colab": {
          "base_uri": "https://localhost:8080/"
        },
        "id": "PHm_Pc4TBkfL",
        "outputId": "8a64779f-9668-40c8-8505-9632f4857341"
      },
      "execution_count": 2,
      "outputs": [
        {
          "output_type": "execute_result",
          "data": {
            "text/plain": [
              "[0, 1, 2, 3, 4, 5, 6, 7, 8, 9]"
            ]
          },
          "metadata": {},
          "execution_count": 2
        }
      ]
    },
    {
      "cell_type": "code",
      "source": [
        "my_list = []\n",
        "for i in range(10):\n",
        "  my_list.append(i)"
      ],
      "metadata": {
        "id": "SzxhMnMKBrOc"
      },
      "execution_count": null,
      "outputs": []
    },
    {
      "cell_type": "code",
      "source": [
        "my_list"
      ],
      "metadata": {
        "colab": {
          "base_uri": "https://localhost:8080/"
        },
        "id": "U8Gy_Gx0B2mo",
        "outputId": "4bb2f97d-c88d-4c3e-ceba-335fcd4c2a63"
      },
      "execution_count": null,
      "outputs": [
        {
          "output_type": "execute_result",
          "data": {
            "text/plain": [
              "[0, 1, 2, 3, 4, 5, 6, 7, 8, 9]"
            ]
          },
          "metadata": {},
          "execution_count": 6
        }
      ]
    },
    {
      "cell_type": "code",
      "source": [
        "my_list = [i*i for i in range(10)]\n",
        "my_list"
      ],
      "metadata": {
        "colab": {
          "base_uri": "https://localhost:8080/"
        },
        "id": "a2FNCbNHB4g9",
        "outputId": "3a06d59e-a8e5-42f5-f8a6-fdcae642c2c9"
      },
      "execution_count": null,
      "outputs": [
        {
          "output_type": "execute_result",
          "data": {
            "text/plain": [
              "[0, 1, 4, 9, 16, 25, 36, 49, 64, 81]"
            ]
          },
          "metadata": {},
          "execution_count": 7
        }
      ]
    },
    {
      "cell_type": "code",
      "source": [
        "my_list = [i for i in range(10) if i % 2 == 0]\n",
        "my_list"
      ],
      "metadata": {
        "colab": {
          "base_uri": "https://localhost:8080/"
        },
        "id": "ttbWYkM1CIUI",
        "outputId": "f8ef6c0b-4373-4b18-fa14-1200a659dae6"
      },
      "execution_count": null,
      "outputs": [
        {
          "output_type": "execute_result",
          "data": {
            "text/plain": [
              "[0, 2, 4, 6, 8]"
            ]
          },
          "metadata": {},
          "execution_count": 8
        }
      ]
    },
    {
      "cell_type": "code",
      "source": [
        "my_list = [i if i % 2 else -i for i in range(10)]\n",
        "my_list"
      ],
      "metadata": {
        "colab": {
          "base_uri": "https://localhost:8080/"
        },
        "id": "WtVg3QVFChmQ",
        "outputId": "e0e6d641-4fa8-4dba-8ea9-afc5e2c7ecb6"
      },
      "execution_count": null,
      "outputs": [
        {
          "output_type": "execute_result",
          "data": {
            "text/plain": [
              "[0, 1, -2, 3, -4, 5, -6, 7, -8, 9]"
            ]
          },
          "metadata": {},
          "execution_count": 10
        }
      ]
    },
    {
      "cell_type": "code",
      "source": [
        "my_list = [i for i in range(10)]\n",
        "another_list = [i*i for i in my_list]\n",
        "another_list"
      ],
      "metadata": {
        "colab": {
          "base_uri": "https://localhost:8080/"
        },
        "id": "wjg0AHLNC9ZF",
        "outputId": "6c6b6ef7-14f2-43f8-be70-8a3f0a04c98d"
      },
      "execution_count": null,
      "outputs": [
        {
          "output_type": "execute_result",
          "data": {
            "text/plain": [
              "[0, 1, 4, 9, 16, 25, 36, 49, 64, 81]"
            ]
          },
          "metadata": {},
          "execution_count": 11
        }
      ]
    },
    {
      "cell_type": "code",
      "source": [
        "{i:i*i for i in my_list}"
      ],
      "metadata": {
        "colab": {
          "base_uri": "https://localhost:8080/"
        },
        "id": "0OJ8FGHRDiO2",
        "outputId": "d66fcaca-b3ce-4e59-ea9b-859438e46e75"
      },
      "execution_count": null,
      "outputs": [
        {
          "output_type": "execute_result",
          "data": {
            "text/plain": [
              "{0: 0, 1: 1, 2: 4, 3: 9, 4: 16, 5: 25, 6: 36, 7: 49, 8: 64, 9: 81}"
            ]
          },
          "metadata": {},
          "execution_count": 13
        }
      ]
    },
    {
      "cell_type": "markdown",
      "source": [
        "# Project on list and dict comprehension"
      ],
      "metadata": {
        "id": "0KGefHYcDrEf"
      }
    },
    {
      "cell_type": "markdown",
      "source": [
        "## Goal\n",
        "### learn to use dict and dict comprehension"
      ],
      "metadata": {
        "id": "Eg4LJHtWEMSW"
      }
    },
    {
      "cell_type": "markdown",
      "source": [
        "## Discription\n",
        "## Encrypt with list comprehension\n",
        "### Use Encrypt char and list comprehension to encrypt a string\n",
        "### HINT: Can use JOin(.)"
      ],
      "metadata": {
        "id": "fGr8aXGMEQ2_"
      }
    },
    {
      "cell_type": "code",
      "source": [
        "def encrypt_char(char, key):\n",
        "  return chr(ord('A') + (ord(char) - ord('A') + key)  % 26)"
      ],
      "metadata": {
        "id": "-TTKkHx4E9Ul"
      },
      "execution_count": 3,
      "outputs": []
    },
    {
      "cell_type": "code",
      "source": [
        "encrypt_char(\"A\",3)"
      ],
      "metadata": {
        "colab": {
          "base_uri": "https://localhost:8080/",
          "height": 36
        },
        "id": "0vgMgunnFcf7",
        "outputId": "5bb1db6c-5e60-4766-c407-9035e773e439"
      },
      "execution_count": null,
      "outputs": [
        {
          "output_type": "execute_result",
          "data": {
            "text/plain": [
              "'D'"
            ],
            "application/vnd.google.colaboratory.intrinsic+json": {
              "type": "string"
            }
          },
          "metadata": {},
          "execution_count": 18
        }
      ]
    },
    {
      "cell_type": "code",
      "source": [
        "message = \"you are awesome\"\n",
        "[c for c in message.upper()]\n"
      ],
      "metadata": {
        "colab": {
          "base_uri": "https://localhost:8080/"
        },
        "id": "mZMvMI5CGWc2",
        "outputId": "3af96f3e-d9f3-41ba-e753-d24087c9d41f"
      },
      "execution_count": null,
      "outputs": [
        {
          "output_type": "execute_result",
          "data": {
            "text/plain": [
              "['Y', 'O', 'U', ' ', 'A', 'R', 'E', ' ', 'A', 'W', 'E', 'S', 'O', 'M', 'E']"
            ]
          },
          "metadata": {},
          "execution_count": 19
        }
      ]
    },
    {
      "cell_type": "code",
      "source": [
        "message = \"you are awesome\"\n",
        "key = 3\n",
        "cipher_list = [encrypt_char(c,key)if c not in  ' ,' else c for c in message.upper()]\n",
        "''.join(cipher_list)"
      ],
      "metadata": {
        "colab": {
          "base_uri": "https://localhost:8080/",
          "height": 36
        },
        "id": "os1SAt3qG53m",
        "outputId": "fe8f69b4-d768-4540-8b14-ddb8779045c6"
      },
      "execution_count": 5,
      "outputs": [
        {
          "output_type": "execute_result",
          "data": {
            "text/plain": [
              "'BRX DUH DZHVRPH'"
            ],
            "application/vnd.google.colaboratory.intrinsic+json": {
              "type": "string"
            }
          },
          "metadata": {},
          "execution_count": 5
        }
      ]
    },
    {
      "cell_type": "code",
      "source": [
        ""
      ],
      "metadata": {
        "id": "yyiVVirJ7G8J"
      },
      "execution_count": null,
      "outputs": []
    },
    {
      "cell_type": "markdown",
      "source": [
        "# Decrypt with list comprehension"
      ],
      "metadata": {
        "id": "Qqk2yfPgHKmF"
      }
    },
    {
      "cell_type": "markdown",
      "source": [
        "## Use decrypt_char and list comprehension to decrypt the cipher"
      ],
      "metadata": {
        "id": "iRbFe-0iHPZy"
      }
    },
    {
      "cell_type": "code",
      "source": [
        "def decrypt_char(char, key):\n",
        "  return encrypt_char(char, 26 - key)"
      ],
      "metadata": {
        "id": "qveDoWwAHeWj"
      },
      "execution_count": null,
      "outputs": []
    },
    {
      "cell_type": "code",
      "source": [
        "cipher = \"BRX DUH DZHVRPH\"\n",
        "key = 3\n",
        "message_list = [decrypt_char(c, key) if c not in ' ,.' else c for c in cipher.upper()]\n",
        "''.join(message_list)"
      ],
      "metadata": {
        "colab": {
          "base_uri": "https://localhost:8080/",
          "height": 36
        },
        "id": "Wxb50LMQI76K",
        "outputId": "6c37e412-b351-482d-dc9a-625a502ea888"
      },
      "execution_count": null,
      "outputs": [
        {
          "output_type": "execute_result",
          "data": {
            "text/plain": [
              "'YOU ARE AWESOME'"
            ],
            "application/vnd.google.colaboratory.intrinsic+json": {
              "type": "string"
            }
          },
          "metadata": {},
          "execution_count": 34
        }
      ]
    },
    {
      "cell_type": "markdown",
      "source": [
        "# Use Dict comprehension for frequency count\n",
        "### Prompt the user for a line of text\n",
        "### Us the dict comprehension to count the number of occurences of each charcter\n",
        "### Example: \"aabbccccc\" should give {'a':2,'b':2,'c':5}\n",
        "### HINT: Using count('a') on a string will return the number of occurences of 'a'."
      ],
      "metadata": {
        "id": "FkuqWLAoJvph"
      }
    },
    {
      "cell_type": "code",
      "source": [
        "text = input(\"Input Line of Text :\")\n",
        "{c:text.count(c) for c in text}"
      ],
      "metadata": {
        "colab": {
          "base_uri": "https://localhost:8080/"
        },
        "id": "G17C1_RDJyL9",
        "outputId": "e029134f-de74-48c6-a1be-f9f7697e478c"
      },
      "execution_count": null,
      "outputs": [
        {
          "name": "stdout",
          "output_type": "stream",
          "text": [
            "Input Line of Text :aaabbbbccccc\n"
          ]
        },
        {
          "output_type": "execute_result",
          "data": {
            "text/plain": [
              "{'a': 3, 'b': 4, 'c': 5}"
            ]
          },
          "metadata": {},
          "execution_count": 35
        }
      ]
    },
    {
      "cell_type": "code",
      "source": [
        "\n",
        "\n",
        "\n",
        "text = input(\"Input Line of Text :\")\n",
        "\n",
        "print(text)\n",
        "\n",
        "print(set(text))\n",
        "\n",
        "{c:text.count(c) for c in set(text)}### Optimize the code "
      ],
      "metadata": {
        "colab": {
          "base_uri": "https://localhost:8080/"
        },
        "id": "0HtR0ixbMBlO",
        "outputId": "dfd16e90-8317-4259-8142-5e79a9e519b7"
      },
      "execution_count": 6,
      "outputs": [
        {
          "output_type": "stream",
          "name": "stdout",
          "text": [
            "Input Line of Text :aaabbbbcccccczzzzz\n",
            "aaabbbbcccccczzzzz\n",
            "{'a', 'c', 'z', 'b'}\n"
          ]
        },
        {
          "output_type": "execute_result",
          "data": {
            "text/plain": [
              "{'a': 3, 'b': 4, 'c': 6, 'z': 5}"
            ]
          },
          "metadata": {},
          "execution_count": 6
        }
      ]
    },
    {
      "cell_type": "markdown",
      "source": [
        "### Palindrome"
      ],
      "metadata": {
        "id": "4lGrVJjSMdNi"
      }
    },
    {
      "cell_type": "code",
      "source": [
        "text=\"racecar\"\n",
        "text==text[::-1]"
      ],
      "metadata": {
        "colab": {
          "base_uri": "https://localhost:8080/"
        },
        "id": "qj-8Tj7WGZpM",
        "outputId": "c36a36e0-eb40-41af-d05c-a319aa85c156"
      },
      "execution_count": null,
      "outputs": [
        {
          "output_type": "execute_result",
          "data": {
            "text/plain": [
              "True"
            ]
          },
          "metadata": {},
          "execution_count": 3
        }
      ]
    },
    {
      "cell_type": "code",
      "source": [
        "l=[[1,2],[4,6],[8,10]]"
      ],
      "metadata": {
        "id": "7RiBa_w0GjBi"
      },
      "execution_count": 7,
      "outputs": []
    },
    {
      "cell_type": "code",
      "source": [
        "[j for i in l for j in i]"
      ],
      "metadata": {
        "colab": {
          "base_uri": "https://localhost:8080/"
        },
        "id": "w516C5rpHKA0",
        "outputId": "1fbb9c20-445c-4ad3-ab5f-f95dda9e302f"
      },
      "execution_count": 8,
      "outputs": [
        {
          "output_type": "execute_result",
          "data": {
            "text/plain": [
              "[1, 2, 4, 6, 8, 10]"
            ]
          },
          "metadata": {},
          "execution_count": 8
        }
      ]
    },
    {
      "cell_type": "code",
      "source": [
        "\n"
      ],
      "metadata": {
        "id": "grwGBE6CHXZp"
      },
      "execution_count": null,
      "outputs": []
    },
    {
      "cell_type": "code",
      "source": [
        ""
      ],
      "metadata": {
        "id": "doV7IPtBHeJe"
      },
      "execution_count": null,
      "outputs": []
    }
  ]
}