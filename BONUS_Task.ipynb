{
  "nbformat": 4,
  "nbformat_minor": 0,
  "metadata": {
    "colab": {
      "name": "BONUS Task.ipynb",
      "provenance": [],
      "authorship_tag": "ABX9TyN1UbKooMYWfkryJLqn5gaM",
      "include_colab_link": true
    },
    "kernelspec": {
      "name": "python3",
      "display_name": "Python 3"
    },
    "language_info": {
      "name": "python"
    },
    "accelerator": "GPU",
    "gpuClass": "standard"
  },
  "cells": [
    {
      "cell_type": "markdown",
      "metadata": {
        "id": "view-in-github",
        "colab_type": "text"
      },
      "source": [
        "<a href=\"https://colab.research.google.com/github/Zabiullahkhan/Data_Science/blob/main/BONUS_Task.ipynb\" target=\"_parent\"><img src=\"https://colab.research.google.com/assets/colab-badge.svg\" alt=\"Open In Colab\"/></a>"
      ]
    },
    {
      "cell_type": "code",
      "source": [
        "#! pip install deskew"
      ],
      "metadata": {
        "id": "TGWoKVUDHdbF"
      },
      "execution_count": null,
      "outputs": []
    },
    {
      "cell_type": "code",
      "source": [
        "#! pip install opencv-python"
      ],
      "metadata": {
        "id": "e5jsIR2PHelg"
      },
      "execution_count": null,
      "outputs": []
    },
    {
      "cell_type": "code",
      "source": [
        "import math\n",
        "from typing import Tuple, Union\n",
        "\n",
        "import cv2\n",
        "import numpy as np\n",
        "\n",
        "from deskew import determine_skew"
      ],
      "metadata": {
        "id": "rheg9ARoHyW3"
      },
      "execution_count": null,
      "outputs": []
    },
    {
      "cell_type": "code",
      "source": [
        "def rotate(image:np.ndarray, angle: float, background: Union[int, Tuple[int, int, int]]) -> np.ndarray:\n",
        "  old_width, old_height = image.shape[:2]\n",
        "  angle_radian = math.radians(angle)\n",
        "  width = abs(np.sin(angle_radian) * old_height) + abs(np.cos(angle_radian) * old_width)\n",
        "  height = abs(np.sin(angle_radian) * old_width) + abs(np.cos(angle_radian) * old_height)\n",
        "\n",
        "  image_center = tuple(np.array(image.shape[1::-1]) / 2)\n",
        "  rot_mat = cv2.getRotationMatrix2D(image_center, angle, 1.0)\n",
        "  rot_mat[1, 2] += (width - old_width) / 2\n",
        "  rot_mat[0, 2] += (height - old_height) / 2\n",
        "  return cv2.warpAffine(image, rot_mat, (int(round(height)), int(round(width))), borderValue=background)\n",
        "\n"
      ],
      "metadata": {
        "id": "oCoyU1LJH7wb"
      },
      "execution_count": null,
      "outputs": []
    },
    {
      "cell_type": "code",
      "source": [
        "image = cv2.imread('/content/resume.png')\n",
        "grayscale = cv2.cvtColor(image, cv2.COLOR_BGR2GRAY)\n",
        "angle = determine_skew(grayscale)\n",
        "rotated = rotate(image, angle, (0, 0, 0))\n",
        "cv2.imwrite('output.png', rotated)"
      ],
      "metadata": {
        "colab": {
          "base_uri": "https://localhost:8080/"
        },
        "id": "KdmWOtwKJzzI",
        "outputId": "a7844e67-7bc7-45a1-ef95-8a3c91203289"
      },
      "execution_count": null,
      "outputs": [
        {
          "output_type": "execute_result",
          "data": {
            "text/plain": [
              "True"
            ]
          },
          "metadata": {},
          "execution_count": 6
        }
      ]
    }
  ]
}